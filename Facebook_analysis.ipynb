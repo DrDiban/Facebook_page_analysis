{
 "cells": [
  {
   "cell_type": "markdown",
   "metadata": {},
   "source": [
    "# Analytic of Facebook Followers"
   ]
  },
  {
   "cell_type": "markdown",
   "metadata": {},
   "source": [
    "## 1.0 Volatility examination"
   ]
  },
  {
   "cell_type": "code",
   "execution_count": 1,
   "metadata": {},
   "outputs": [
    {
     "name": "stderr",
     "output_type": "stream",
     "text": [
      "c:\\users\\dr diban\\appdata\\local\\programs\\python\\python38\\lib\\site-packages\\IPython\\core\\interactiveshell.py:3062: DtypeWarning: Columns (9) have mixed types. Specify dtype option on import or set low_memory=False.\n",
      "  has_raised = await self.run_ast_nodes(code_ast.body, cell_name,\n"
     ]
    }
   ],
   "source": [
    "import pandas as pd\n",
    "df=pd.read_csv('C:/Users/Dr Diban/Downloads/temp_datalab_records_social_facebook/temp_datalab_records_social_facebook.csv')"
   ]
  },
  {
   "cell_type": "code",
   "execution_count": 2,
   "metadata": {},
   "outputs": [],
   "source": [
    "times=pd.to_datetime(df['time'],format='%Y-%m-%d')\n",
    "df['time']=times\n"
   ]
  },
  {
   "cell_type": "markdown",
   "metadata": {},
   "source": [
    "Top 5 most liked page in Facebook based on the lastest date"
   ]
  },
  {
   "cell_type": "code",
   "execution_count": 275,
   "metadata": {},
   "outputs": [],
   "source": [
    "Group_sort=(df.sort_values(by='time',ascending=False)).groupby(['facebook_id'])"
   ]
  },
  {
   "cell_type": "code",
   "execution_count": 276,
   "metadata": {},
   "outputs": [
    {
     "data": {
      "text/html": [
       "<div>\n",
       "<style scoped>\n",
       "    .dataframe tbody tr th:only-of-type {\n",
       "        vertical-align: middle;\n",
       "    }\n",
       "\n",
       "    .dataframe tbody tr th {\n",
       "        vertical-align: top;\n",
       "    }\n",
       "\n",
       "    .dataframe thead th {\n",
       "        text-align: right;\n",
       "    }\n",
       "</style>\n",
       "<table border=\"1\" class=\"dataframe\">\n",
       "  <thead>\n",
       "    <tr style=\"text-align: right;\">\n",
       "      <th></th>\n",
       "      <th>username</th>\n",
       "      <th>likes</th>\n",
       "    </tr>\n",
       "  </thead>\n",
       "  <tbody>\n",
       "    <tr>\n",
       "      <th>3617487</th>\n",
       "      <td>facebook</td>\n",
       "      <td>210641077</td>\n",
       "    </tr>\n",
       "    <tr>\n",
       "      <th>3617750</th>\n",
       "      <td>youtube</td>\n",
       "      <td>83431021</td>\n",
       "    </tr>\n",
       "    <tr>\n",
       "      <th>3620845</th>\n",
       "      <td>McDonalds</td>\n",
       "      <td>78045025</td>\n",
       "    </tr>\n",
       "    <tr>\n",
       "      <th>3617029</th>\n",
       "      <td>McDonaldsUS</td>\n",
       "      <td>78015575</td>\n",
       "    </tr>\n",
       "    <tr>\n",
       "      <th>3618873</th>\n",
       "      <td>manchesterunited</td>\n",
       "      <td>73522078</td>\n",
       "    </tr>\n",
       "  </tbody>\n",
       "</table>\n",
       "</div>"
      ],
      "text/plain": [
       "                 username      likes\n",
       "3617487          facebook  210641077\n",
       "3617750           youtube   83431021\n",
       "3620845         McDonalds   78045025\n",
       "3617029       McDonaldsUS   78015575\n",
       "3618873  manchesterunited   73522078"
      ]
     },
     "execution_count": 276,
     "metadata": {},
     "output_type": "execute_result"
    }
   ],
   "source": [
    "Group_sort[['username','likes']].head(1).sort_values(by='likes',ascending=False)[0:5]"
   ]
  },
  {
   "cell_type": "markdown",
   "metadata": {},
   "source": [
    "Bottom 5 liked page in Facebook based on the lastest date"
   ]
  },
  {
   "cell_type": "code",
   "execution_count": 286,
   "metadata": {},
   "outputs": [
    {
     "data": {
      "text/html": [
       "<div>\n",
       "<style scoped>\n",
       "    .dataframe tbody tr th:only-of-type {\n",
       "        vertical-align: middle;\n",
       "    }\n",
       "\n",
       "    .dataframe tbody tr th {\n",
       "        vertical-align: top;\n",
       "    }\n",
       "\n",
       "    .dataframe thead th {\n",
       "        text-align: right;\n",
       "    }\n",
       "</style>\n",
       "<table border=\"1\" class=\"dataframe\">\n",
       "  <thead>\n",
       "    <tr style=\"text-align: right;\">\n",
       "      <th></th>\n",
       "      <th>username</th>\n",
       "      <th>likes</th>\n",
       "    </tr>\n",
       "  </thead>\n",
       "  <tbody>\n",
       "    <tr>\n",
       "      <th>3620078</th>\n",
       "      <td>restoactive</td>\n",
       "      <td>11</td>\n",
       "    </tr>\n",
       "    <tr>\n",
       "      <th>3620385</th>\n",
       "      <td>ARB Structures</td>\n",
       "      <td>9</td>\n",
       "    </tr>\n",
       "    <tr>\n",
       "      <th>3619216</th>\n",
       "      <td>cleancorenergy</td>\n",
       "      <td>7</td>\n",
       "    </tr>\n",
       "    <tr>\n",
       "      <th>3620929</th>\n",
       "      <td>RLJ Credit Opportunity Fund, L.P.</td>\n",
       "      <td>6</td>\n",
       "    </tr>\n",
       "  </tbody>\n",
       "</table>\n",
       "</div>"
      ],
      "text/plain": [
       "                                  username  likes\n",
       "3620078                        restoactive     11\n",
       "3620385                     ARB Structures      9\n",
       "3619216                     cleancorenergy      7\n",
       "3620929  RLJ Credit Opportunity Fund, L.P.      6"
      ]
     },
     "execution_count": 286,
     "metadata": {},
     "output_type": "execute_result"
    }
   ],
   "source": [
    "Bot_5=Group_sort[['username','likes']].head(1).sort_values(by='likes',ascending=False)[-5:-1]\n",
    "Bot_5.loc[[3620385,3620929],'username']=['ARB Structures','RLJ Credit Opportunity Fund, L.P.']\n",
    "Bot_5"
   ]
  },
  {
   "cell_type": "markdown",
   "metadata": {},
   "source": [
    "Mean, median and standard deviation of Facebook likes based on the lastest date"
   ]
  },
  {
   "cell_type": "code",
   "execution_count": 15,
   "metadata": {},
   "outputs": [
    {
     "data": {
      "text/html": [
       "<div>\n",
       "<style scoped>\n",
       "    .dataframe tbody tr th:only-of-type {\n",
       "        vertical-align: middle;\n",
       "    }\n",
       "\n",
       "    .dataframe tbody tr th {\n",
       "        vertical-align: top;\n",
       "    }\n",
       "\n",
       "    .dataframe thead th {\n",
       "        text-align: right;\n",
       "    }\n",
       "</style>\n",
       "<table border=\"1\" class=\"dataframe\">\n",
       "  <thead>\n",
       "    <tr style=\"text-align: right;\">\n",
       "      <th></th>\n",
       "      <th>likes</th>\n",
       "    </tr>\n",
       "  </thead>\n",
       "  <tbody>\n",
       "    <tr>\n",
       "      <th>median</th>\n",
       "      <td>2.226700e+04</td>\n",
       "    </tr>\n",
       "    <tr>\n",
       "      <th>mean</th>\n",
       "      <td>8.012410e+05</td>\n",
       "    </tr>\n",
       "    <tr>\n",
       "      <th>std</th>\n",
       "      <td>4.811819e+06</td>\n",
       "    </tr>\n",
       "  </tbody>\n",
       "</table>\n",
       "</div>"
      ],
      "text/plain": [
       "               likes\n",
       "median  2.226700e+04\n",
       "mean    8.012410e+05\n",
       "std     4.811819e+06"
      ]
     },
     "execution_count": 15,
     "metadata": {},
     "output_type": "execute_result"
    }
   ],
   "source": [
    "Group_sort[['username','likes']].head(1).agg(['median','mean','std'])"
   ]
  },
  {
   "cell_type": "markdown",
   "metadata": {},
   "source": [
    "The volatility of 'talking about count' is examined"
   ]
  },
  {
   "cell_type": "code",
   "execution_count": 167,
   "metadata": {},
   "outputs": [],
   "source": [
    "x=Group_sort['talking_about_count'].agg(['median','mean','std'])\n",
    "data=x.sort_values(by='std',ascending=False)[0:5]\n"
   ]
  },
  {
   "cell_type": "code",
   "execution_count": 165,
   "metadata": {},
   "outputs": [],
   "source": [
    "pagename_vol=[]\n",
    "for i in (data.index):\n",
    "    pagename_vol.append((Group_likes.get_group(i)['username'].head(1)).values[0])\n",
    "data.insert(0,'FB name',pagename_vol)"
   ]
  },
  {
   "cell_type": "code",
   "execution_count": 166,
   "metadata": {},
   "outputs": [
    {
     "data": {
      "text/html": [
       "<div>\n",
       "<style scoped>\n",
       "    .dataframe tbody tr th:only-of-type {\n",
       "        vertical-align: middle;\n",
       "    }\n",
       "\n",
       "    .dataframe tbody tr th {\n",
       "        vertical-align: top;\n",
       "    }\n",
       "\n",
       "    .dataframe thead th {\n",
       "        text-align: right;\n",
       "    }\n",
       "</style>\n",
       "<table border=\"1\" class=\"dataframe\">\n",
       "  <thead>\n",
       "    <tr style=\"text-align: right;\">\n",
       "      <th></th>\n",
       "      <th>FB name</th>\n",
       "      <th>median</th>\n",
       "      <th>mean</th>\n",
       "      <th>std</th>\n",
       "    </tr>\n",
       "    <tr>\n",
       "      <th>facebook_id</th>\n",
       "      <th></th>\n",
       "      <th></th>\n",
       "      <th></th>\n",
       "      <th></th>\n",
       "    </tr>\n",
       "  </thead>\n",
       "  <tbody>\n",
       "    <tr>\n",
       "      <th>131459315949</th>\n",
       "      <td>CBSNews</td>\n",
       "      <td>803014.5</td>\n",
       "      <td>1.048189e+06</td>\n",
       "      <td>852774.807781</td>\n",
       "    </tr>\n",
       "    <tr>\n",
       "      <th>7724542745</th>\n",
       "      <td>manchesterunited</td>\n",
       "      <td>1625354.0</td>\n",
       "      <td>1.641433e+06</td>\n",
       "      <td>690647.941761</td>\n",
       "    </tr>\n",
       "    <tr>\n",
       "      <th>350097413540</th>\n",
       "      <td>Storyful</td>\n",
       "      <td>548405.5</td>\n",
       "      <td>7.528102e+05</td>\n",
       "      <td>674762.393334</td>\n",
       "    </tr>\n",
       "    <tr>\n",
       "      <th>7040724713</th>\n",
       "      <td>yahoo</td>\n",
       "      <td>475029.0</td>\n",
       "      <td>6.447248e+05</td>\n",
       "      <td>650379.771238</td>\n",
       "    </tr>\n",
       "    <tr>\n",
       "      <th>13652355666</th>\n",
       "      <td>usatoday</td>\n",
       "      <td>672393.0</td>\n",
       "      <td>8.422868e+05</td>\n",
       "      <td>538876.429033</td>\n",
       "    </tr>\n",
       "  </tbody>\n",
       "</table>\n",
       "</div>"
      ],
      "text/plain": [
       "                       FB name     median          mean            std\n",
       "facebook_id                                                           \n",
       "131459315949           CBSNews   803014.5  1.048189e+06  852774.807781\n",
       "7724542745    manchesterunited  1625354.0  1.641433e+06  690647.941761\n",
       "350097413540          Storyful   548405.5  7.528102e+05  674762.393334\n",
       "7040724713               yahoo   475029.0  6.447248e+05  650379.771238\n",
       "13652355666           usatoday   672393.0  8.422868e+05  538876.429033"
      ]
     },
     "execution_count": 166,
     "metadata": {},
     "output_type": "execute_result"
    }
   ],
   "source": [
    "data"
   ]
  },
  {
   "cell_type": "code",
   "execution_count": 168,
   "metadata": {},
   "outputs": [
    {
     "data": {
      "image/png": "[encoded data removed]",
      "text/plain": [
       "<Figure size 432x288 with 1 Axes>"
      ]
     },
     "metadata": {},
     "output_type": "display_data"
    }
   ],
   "source": [
    "import numpy as np\n",
    "import matplotlib.pyplot as plt\n",
    "ypos=np.arange(len(data['mean']))\n",
    "bar_with=0.25\n",
    "fig,ax=plt.subplots()\n",
    "bar_std=ax.bar(ypos-0.25,data['std'],bar_with,label='std')\n",
    "bar_median=ax.bar(ypos,data['median'],bar_with,label='median')\n",
    "bar_mean=ax.bar(ypos+0.25,data['mean'],bar_with,label='mean')\n",
    "username=['CBSNews', 'ManUtd', 'Storyful', 'Yahoo', 'USAtoday']\n",
    "ax.set_xticks(ypos)\n",
    "ax.set_xticklabels(username)\n",
    "plt.ylabel('Page Likes')\n",
    "ax.legend()\n",
    "plt.title('Figure 1: Top 5 most volatile Facebook page std. dev., mean & median')\n",
    "plt.show()"
   ]
  },
  {
   "cell_type": "markdown",
   "metadata": {},
   "source": [
    "ManUtd pages is examined in more detail. The page is filter based on talking_about_count that is 2 standard deviation from mean value\n"
   ]
  },
  {
   "cell_type": "code",
   "execution_count": 171,
   "metadata": {},
   "outputs": [
    {
     "data": {
      "text/html": [
       "<div>\n",
       "<style scoped>\n",
       "    .dataframe tbody tr th:only-of-type {\n",
       "        vertical-align: middle;\n",
       "    }\n",
       "\n",
       "    .dataframe tbody tr th {\n",
       "        vertical-align: top;\n",
       "    }\n",
       "\n",
       "    .dataframe thead th {\n",
       "        text-align: right;\n",
       "    }\n",
       "</style>\n",
       "<table border=\"1\" class=\"dataframe\">\n",
       "  <thead>\n",
       "    <tr style=\"text-align: right;\">\n",
       "      <th></th>\n",
       "      <th>dataset_id</th>\n",
       "      <th>time</th>\n",
       "      <th>username</th>\n",
       "      <th>checkins</th>\n",
       "      <th>has_added_app</th>\n",
       "      <th>were_here_count</th>\n",
       "      <th>likes</th>\n",
       "      <th>talking_about_count</th>\n",
       "      <th>facebook_id</th>\n",
       "      <th>date_added</th>\n",
       "      <th>date_updated</th>\n",
       "      <th>entity_id</th>\n",
       "      <th>cusip</th>\n",
       "      <th>isin</th>\n",
       "      <th>Normalised likes</th>\n",
       "    </tr>\n",
       "  </thead>\n",
       "  <tbody>\n",
       "    <tr>\n",
       "      <th>700188</th>\n",
       "      <td>53470</td>\n",
       "      <td>2016-05-28 04:00:00+00:00</td>\n",
       "      <td>manchesterunited</td>\n",
       "      <td>16268</td>\n",
       "      <td>f</td>\n",
       "      <td>1920547</td>\n",
       "      <td>69484872</td>\n",
       "      <td>4300475</td>\n",
       "      <td>7724542745</td>\n",
       "      <td>NaN</td>\n",
       "      <td>2017-02-14 06:22:59.952652+00</td>\n",
       "      <td>NaN</td>\n",
       "      <td>NaN</td>\n",
       "      <td>NaN</td>\n",
       "      <td>14.073611</td>\n",
       "    </tr>\n",
       "    <tr>\n",
       "      <th>1982224</th>\n",
       "      <td>53470</td>\n",
       "      <td>2017-05-28 04:00:00+00:00</td>\n",
       "      <td>manchesterunited</td>\n",
       "      <td>15814</td>\n",
       "      <td>f</td>\n",
       "      <td>2209416</td>\n",
       "      <td>73498440</td>\n",
       "      <td>4088212</td>\n",
       "      <td>7724542745</td>\n",
       "      <td>2017-05-28 11:45:57.139335+00</td>\n",
       "      <td>2017-05-28 11:45:57.139375+00</td>\n",
       "      <td>NaN</td>\n",
       "      <td>NaN</td>\n",
       "      <td>NaN</td>\n",
       "      <td>14.886528</td>\n",
       "    </tr>\n",
       "    <tr>\n",
       "      <th>816452</th>\n",
       "      <td>53470</td>\n",
       "      <td>2016-07-08 04:00:00+00:00</td>\n",
       "      <td>manchesterunited</td>\n",
       "      <td>16224</td>\n",
       "      <td>f</td>\n",
       "      <td>1929284</td>\n",
       "      <td>69931029</td>\n",
       "      <td>4068312</td>\n",
       "      <td>7724542745</td>\n",
       "      <td>NaN</td>\n",
       "      <td>2017-02-14 06:23:00.726162+00</td>\n",
       "      <td>NaN</td>\n",
       "      <td>NaN</td>\n",
       "      <td>NaN</td>\n",
       "      <td>14.163977</td>\n",
       "    </tr>\n",
       "    <tr>\n",
       "      <th>1629772</th>\n",
       "      <td>53470</td>\n",
       "      <td>2017-03-05 05:00:00+00:00</td>\n",
       "      <td>manchesterunited</td>\n",
       "      <td>15881</td>\n",
       "      <td>f</td>\n",
       "      <td>2110425</td>\n",
       "      <td>72776637</td>\n",
       "      <td>4063030</td>\n",
       "      <td>7724542745</td>\n",
       "      <td>2017-03-05 15:50:21.519281+00</td>\n",
       "      <td>2017-03-05 15:50:21.519324+00</td>\n",
       "      <td>NaN</td>\n",
       "      <td>NaN</td>\n",
       "      <td>NaN</td>\n",
       "      <td>14.740332</td>\n",
       "    </tr>\n",
       "    <tr>\n",
       "      <th>1614811</th>\n",
       "      <td>53470</td>\n",
       "      <td>2017-03-02 05:00:00+00:00</td>\n",
       "      <td>manchesterunited</td>\n",
       "      <td>15881</td>\n",
       "      <td>f</td>\n",
       "      <td>2101384</td>\n",
       "      <td>72742365</td>\n",
       "      <td>4047128</td>\n",
       "      <td>7724542745</td>\n",
       "      <td>2017-03-02 19:16:17.648896+00</td>\n",
       "      <td>2017-03-02 19:16:17.648943+00</td>\n",
       "      <td>NaN</td>\n",
       "      <td>NaN</td>\n",
       "      <td>NaN</td>\n",
       "      <td>14.733391</td>\n",
       "    </tr>\n",
       "  </tbody>\n",
       "</table>\n",
       "</div>"
      ],
      "text/plain": [
       "         dataset_id                      time          username  checkins  \\\n",
       "700188        53470 2016-05-28 04:00:00+00:00  manchesterunited     16268   \n",
       "1982224       53470 2017-05-28 04:00:00+00:00  manchesterunited     15814   \n",
       "816452        53470 2016-07-08 04:00:00+00:00  manchesterunited     16224   \n",
       "1629772       53470 2017-03-05 05:00:00+00:00  manchesterunited     15881   \n",
       "1614811       53470 2017-03-02 05:00:00+00:00  manchesterunited     15881   \n",
       "\n",
       "        has_added_app  were_here_count     likes  talking_about_count  \\\n",
       "700188              f          1920547  69484872              4300475   \n",
       "1982224             f          2209416  73498440              4088212   \n",
       "816452              f          1929284  69931029              4068312   \n",
       "1629772             f          2110425  72776637              4063030   \n",
       "1614811             f          2101384  72742365              4047128   \n",
       "\n",
       "         facebook_id                     date_added  \\\n",
       "700188    7724542745                            NaN   \n",
       "1982224   7724542745  2017-05-28 11:45:57.139335+00   \n",
       "816452    7724542745                            NaN   \n",
       "1629772   7724542745  2017-03-05 15:50:21.519281+00   \n",
       "1614811   7724542745  2017-03-02 19:16:17.648896+00   \n",
       "\n",
       "                          date_updated  entity_id  cusip  isin  \\\n",
       "700188   2017-02-14 06:22:59.952652+00        NaN    NaN   NaN   \n",
       "1982224  2017-05-28 11:45:57.139375+00        NaN    NaN   NaN   \n",
       "816452   2017-02-14 06:23:00.726162+00        NaN    NaN   NaN   \n",
       "1629772  2017-03-05 15:50:21.519324+00        NaN    NaN   NaN   \n",
       "1614811  2017-03-02 19:16:17.648943+00        NaN    NaN   NaN   \n",
       "\n",
       "         Normalised likes  \n",
       "700188          14.073611  \n",
       "1982224         14.886528  \n",
       "816452          14.163977  \n",
       "1629772         14.740332  \n",
       "1614811         14.733391  "
      ]
     },
     "execution_count": 171,
     "metadata": {},
     "output_type": "execute_result"
    }
   ],
   "source": [
    "filt=Group_sort.get_group(7724542745)['talking_about_count']>(1.048189e+06+2*690647.941761)\n",
    "(Group_sort.get_group(7724542745)[filt]).sort_values(by='talking_about_count',ascending=False)[0:5]"
   ]
  },
  {
   "cell_type": "markdown",
   "metadata": {},
   "source": [
    "The highest variation from mean occurred on 28 May 2016. Researching from the internet, this day was when ManUtd hired Jose Mourinho as their new head coach. This must attributed high engagement from the United fans.\n",
    "https://www.nytimes.com/2016/05/28/sports/soccer/manchester-united-hired-jose-mourinho-heres-what-will-happen.html\n",
    "\n",
    "The second highest variation from mean incidentally occurred one year later (28 May 2017). On this day, ManUtd won the UEFA cup beating Ajax by 2-0. United fans most likely expressing their happiness on the United page.\n",
    "https://www.bbc.com/sport/football/40004559\n",
    "\n",
    "The third highest variation from mean occurred on 8 July 2016. On this day, ManUtd announced the signing of Eric Bailly from Villareal. He was not a household name in defense and hardly known by many ManUtd fans. This might has instigated United fans to discuss on his strenghts and weakness on the United page.\n",
    "https://www.goal.com/en/news/1862/premier-league/2016/06/08/24410152/official-manchester-united-sign-bailly"
   ]
  },
  {
   "cell_type": "markdown",
   "metadata": {},
   "source": [
    "## 2.0 Facebook likes examination"
   ]
  },
  {
   "cell_type": "code",
   "execution_count": 3,
   "metadata": {},
   "outputs": [],
   "source": [
    "df2=df"
   ]
  },
  {
   "cell_type": "markdown",
   "metadata": {},
   "source": [
    "A new column repsenting normalised value for Facebook page likes are created  "
   ]
  },
  {
   "cell_type": "code",
   "execution_count": 4,
   "metadata": {},
   "outputs": [],
   "source": [
    "likes_mean=df2['likes'].mean()\n",
    "likes_std=df2['likes'].std()"
   ]
  },
  {
   "cell_type": "code",
   "execution_count": 5,
   "metadata": {},
   "outputs": [],
   "source": [
    "data2=(df2['likes']-likes_mean)/likes_std\n",
    "data2=data2-min(data2)"
   ]
  },
  {
   "cell_type": "code",
   "execution_count": 6,
   "metadata": {},
   "outputs": [],
   "source": [
    "df2['Normalised likes']=data2"
   ]
  },
  {
   "cell_type": "code",
   "execution_count": 7,
   "metadata": {},
   "outputs": [
    {
     "data": {
      "text/html": [
       "<div>\n",
       "<style scoped>\n",
       "    .dataframe tbody tr th:only-of-type {\n",
       "        vertical-align: middle;\n",
       "    }\n",
       "\n",
       "    .dataframe tbody tr th {\n",
       "        vertical-align: top;\n",
       "    }\n",
       "\n",
       "    .dataframe thead th {\n",
       "        text-align: right;\n",
       "    }\n",
       "</style>\n",
       "<table border=\"1\" class=\"dataframe\">\n",
       "  <thead>\n",
       "    <tr style=\"text-align: right;\">\n",
       "      <th></th>\n",
       "      <th>dataset_id</th>\n",
       "      <th>time</th>\n",
       "      <th>username</th>\n",
       "      <th>checkins</th>\n",
       "      <th>has_added_app</th>\n",
       "      <th>were_here_count</th>\n",
       "      <th>likes</th>\n",
       "      <th>talking_about_count</th>\n",
       "      <th>facebook_id</th>\n",
       "      <th>date_added</th>\n",
       "      <th>date_updated</th>\n",
       "      <th>entity_id</th>\n",
       "      <th>cusip</th>\n",
       "      <th>isin</th>\n",
       "      <th>Normalised likes</th>\n",
       "    </tr>\n",
       "  </thead>\n",
       "  <tbody>\n",
       "    <tr>\n",
       "      <th>0</th>\n",
       "      <td>53088</td>\n",
       "      <td>2015-01-01 05:00:00+00:00</td>\n",
       "      <td>SodaStream</td>\n",
       "      <td>0</td>\n",
       "      <td>f</td>\n",
       "      <td>0</td>\n",
       "      <td>761533</td>\n",
       "      <td>587</td>\n",
       "      <td>54885616308</td>\n",
       "      <td>NaN</td>\n",
       "      <td>2017-02-14 03:35:13.236826+00</td>\n",
       "      <td>NaN</td>\n",
       "      <td>NaN</td>\n",
       "      <td>NaN</td>\n",
       "      <td>0.154242</td>\n",
       "    </tr>\n",
       "    <tr>\n",
       "      <th>1</th>\n",
       "      <td>52642</td>\n",
       "      <td>2015-01-01 05:00:00+00:00</td>\n",
       "      <td>ANSYSInc</td>\n",
       "      <td>148</td>\n",
       "      <td>f</td>\n",
       "      <td>0</td>\n",
       "      <td>43442</td>\n",
       "      <td>1305</td>\n",
       "      <td>160242297413411</td>\n",
       "      <td>NaN</td>\n",
       "      <td>2017-02-14 01:55:52.78506+00</td>\n",
       "      <td>NaN</td>\n",
       "      <td>NaN</td>\n",
       "      <td>NaN</td>\n",
       "      <td>0.008799</td>\n",
       "    </tr>\n",
       "    <tr>\n",
       "      <th>2</th>\n",
       "      <td>53656</td>\n",
       "      <td>2015-01-01 05:00:00+00:00</td>\n",
       "      <td>MyAquaAmerica</td>\n",
       "      <td>0</td>\n",
       "      <td>f</td>\n",
       "      <td>0</td>\n",
       "      <td>5591</td>\n",
       "      <td>297</td>\n",
       "      <td>591693544195818</td>\n",
       "      <td>NaN</td>\n",
       "      <td>2017-02-14 08:13:51.267343+00</td>\n",
       "      <td>NaN</td>\n",
       "      <td>NaN</td>\n",
       "      <td>NaN</td>\n",
       "      <td>0.001132</td>\n",
       "    </tr>\n",
       "    <tr>\n",
       "      <th>3</th>\n",
       "      <td>53033</td>\n",
       "      <td>2015-01-01 05:00:00+00:00</td>\n",
       "      <td>Qualcomm</td>\n",
       "      <td>173</td>\n",
       "      <td>f</td>\n",
       "      <td>0</td>\n",
       "      <td>1232521</td>\n",
       "      <td>2685</td>\n",
       "      <td>108472637291</td>\n",
       "      <td>NaN</td>\n",
       "      <td>2017-02-14 03:24:04.363035+00</td>\n",
       "      <td>NaN</td>\n",
       "      <td>NaN</td>\n",
       "      <td>NaN</td>\n",
       "      <td>0.249637</td>\n",
       "    </tr>\n",
       "    <tr>\n",
       "      <th>4</th>\n",
       "      <td>52783</td>\n",
       "      <td>2015-01-01 05:00:00+00:00</td>\n",
       "      <td>eaglepharmaceuticals</td>\n",
       "      <td>0</td>\n",
       "      <td>f</td>\n",
       "      <td>0</td>\n",
       "      <td>18</td>\n",
       "      <td>0</td>\n",
       "      <td>1428265940729350</td>\n",
       "      <td>NaN</td>\n",
       "      <td>2017-02-14 02:22:10.193588+00</td>\n",
       "      <td>NaN</td>\n",
       "      <td>NaN</td>\n",
       "      <td>NaN</td>\n",
       "      <td>0.000003</td>\n",
       "    </tr>\n",
       "    <tr>\n",
       "      <th>...</th>\n",
       "      <td>...</td>\n",
       "      <td>...</td>\n",
       "      <td>...</td>\n",
       "      <td>...</td>\n",
       "      <td>...</td>\n",
       "      <td>...</td>\n",
       "      <td>...</td>\n",
       "      <td>...</td>\n",
       "      <td>...</td>\n",
       "      <td>...</td>\n",
       "      <td>...</td>\n",
       "      <td>...</td>\n",
       "      <td>...</td>\n",
       "      <td>...</td>\n",
       "      <td>...</td>\n",
       "    </tr>\n",
       "    <tr>\n",
       "      <th>3621386</th>\n",
       "      <td>1333153</td>\n",
       "      <td>2018-07-17 04:00:00+00:00</td>\n",
       "      <td>SignatureStyleSalons</td>\n",
       "      <td>0</td>\n",
       "      <td>f</td>\n",
       "      <td>0</td>\n",
       "      <td>400</td>\n",
       "      <td>23</td>\n",
       "      <td>1522066374789370</td>\n",
       "      <td>2018-07-18 05:48:17.266146+00</td>\n",
       "      <td>2018-07-18 05:48:17.26619+00</td>\n",
       "      <td>NaN</td>\n",
       "      <td>NaN</td>\n",
       "      <td>NaN</td>\n",
       "      <td>0.000081</td>\n",
       "    </tr>\n",
       "    <tr>\n",
       "      <th>3621387</th>\n",
       "      <td>911424</td>\n",
       "      <td>2018-07-17 04:00:00+00:00</td>\n",
       "      <td>tdr.jp</td>\n",
       "      <td>510211</td>\n",
       "      <td>f</td>\n",
       "      <td>510211</td>\n",
       "      <td>1105124</td>\n",
       "      <td>50882</td>\n",
       "      <td>213982575367704</td>\n",
       "      <td>2018-07-18 05:45:26.29927+00</td>\n",
       "      <td>2018-07-18 05:45:26.299314+00</td>\n",
       "      <td>NaN</td>\n",
       "      <td>NaN</td>\n",
       "      <td>NaN</td>\n",
       "      <td>0.223834</td>\n",
       "    </tr>\n",
       "    <tr>\n",
       "      <th>3621388</th>\n",
       "      <td>64854</td>\n",
       "      <td>2018-07-17 04:00:00+00:00</td>\n",
       "      <td>fiberone</td>\n",
       "      <td>0</td>\n",
       "      <td>f</td>\n",
       "      <td>0</td>\n",
       "      <td>576589</td>\n",
       "      <td>429</td>\n",
       "      <td>150319295010117</td>\n",
       "      <td>2018-07-18 05:46:13.456221+00</td>\n",
       "      <td>2018-07-18 05:46:13.456264+00</td>\n",
       "      <td>NaN</td>\n",
       "      <td>NaN</td>\n",
       "      <td>NaN</td>\n",
       "      <td>0.116783</td>\n",
       "    </tr>\n",
       "    <tr>\n",
       "      <th>3621389</th>\n",
       "      <td>57960</td>\n",
       "      <td>2018-07-17 04:00:00+00:00</td>\n",
       "      <td>PayPal</td>\n",
       "      <td>0</td>\n",
       "      <td>f</td>\n",
       "      <td>0</td>\n",
       "      <td>5913042</td>\n",
       "      <td>2847</td>\n",
       "      <td>589464587749730</td>\n",
       "      <td>2018-07-18 05:42:55.603128+00</td>\n",
       "      <td>2018-07-18 05:42:55.60317+00</td>\n",
       "      <td>NaN</td>\n",
       "      <td>NaN</td>\n",
       "      <td>NaN</td>\n",
       "      <td>1.197640</td>\n",
       "    </tr>\n",
       "    <tr>\n",
       "      <th>3621390</th>\n",
       "      <td>997461</td>\n",
       "      <td>2018-07-17 04:00:00+00:00</td>\n",
       "      <td>TorchlightEnergy</td>\n",
       "      <td>0</td>\n",
       "      <td>f</td>\n",
       "      <td>0</td>\n",
       "      <td>591</td>\n",
       "      <td>0</td>\n",
       "      <td>181151891899181</td>\n",
       "      <td>2018-07-18 05:43:37.948609+00</td>\n",
       "      <td>2018-07-18 05:43:37.948648+00</td>\n",
       "      <td>NaN</td>\n",
       "      <td>NaN</td>\n",
       "      <td>NaN</td>\n",
       "      <td>0.000119</td>\n",
       "    </tr>\n",
       "  </tbody>\n",
       "</table>\n",
       "<p>3621391 rows × 15 columns</p>\n",
       "</div>"
      ],
      "text/plain": [
       "         dataset_id                      time              username  checkins  \\\n",
       "0             53088 2015-01-01 05:00:00+00:00            SodaStream         0   \n",
       "1             52642 2015-01-01 05:00:00+00:00              ANSYSInc       148   \n",
       "2             53656 2015-01-01 05:00:00+00:00         MyAquaAmerica         0   \n",
       "3             53033 2015-01-01 05:00:00+00:00              Qualcomm       173   \n",
       "4             52783 2015-01-01 05:00:00+00:00  eaglepharmaceuticals         0   \n",
       "...             ...                       ...                   ...       ...   \n",
       "3621386     1333153 2018-07-17 04:00:00+00:00  SignatureStyleSalons         0   \n",
       "3621387      911424 2018-07-17 04:00:00+00:00                tdr.jp    510211   \n",
       "3621388       64854 2018-07-17 04:00:00+00:00              fiberone         0   \n",
       "3621389       57960 2018-07-17 04:00:00+00:00                PayPal         0   \n",
       "3621390      997461 2018-07-17 04:00:00+00:00      TorchlightEnergy         0   \n",
       "\n",
       "        has_added_app  were_here_count    likes  talking_about_count  \\\n",
       "0                   f                0   761533                  587   \n",
       "1                   f                0    43442                 1305   \n",
       "2                   f                0     5591                  297   \n",
       "3                   f                0  1232521                 2685   \n",
       "4                   f                0       18                    0   \n",
       "...               ...              ...      ...                  ...   \n",
       "3621386             f                0      400                   23   \n",
       "3621387             f           510211  1105124                50882   \n",
       "3621388             f                0   576589                  429   \n",
       "3621389             f                0  5913042                 2847   \n",
       "3621390             f                0      591                    0   \n",
       "\n",
       "              facebook_id                     date_added  \\\n",
       "0             54885616308                            NaN   \n",
       "1         160242297413411                            NaN   \n",
       "2         591693544195818                            NaN   \n",
       "3            108472637291                            NaN   \n",
       "4        1428265940729350                            NaN   \n",
       "...                   ...                            ...   \n",
       "3621386  1522066374789370  2018-07-18 05:48:17.266146+00   \n",
       "3621387   213982575367704   2018-07-18 05:45:26.29927+00   \n",
       "3621388   150319295010117  2018-07-18 05:46:13.456221+00   \n",
       "3621389   589464587749730  2018-07-18 05:42:55.603128+00   \n",
       "3621390   181151891899181  2018-07-18 05:43:37.948609+00   \n",
       "\n",
       "                          date_updated  entity_id  cusip  isin  \\\n",
       "0        2017-02-14 03:35:13.236826+00        NaN    NaN   NaN   \n",
       "1         2017-02-14 01:55:52.78506+00        NaN    NaN   NaN   \n",
       "2        2017-02-14 08:13:51.267343+00        NaN    NaN   NaN   \n",
       "3        2017-02-14 03:24:04.363035+00        NaN    NaN   NaN   \n",
       "4        2017-02-14 02:22:10.193588+00        NaN    NaN   NaN   \n",
       "...                                ...        ...    ...   ...   \n",
       "3621386   2018-07-18 05:48:17.26619+00        NaN    NaN   NaN   \n",
       "3621387  2018-07-18 05:45:26.299314+00        NaN    NaN   NaN   \n",
       "3621388  2018-07-18 05:46:13.456264+00        NaN    NaN   NaN   \n",
       "3621389   2018-07-18 05:42:55.60317+00        NaN    NaN   NaN   \n",
       "3621390  2018-07-18 05:43:37.948648+00        NaN    NaN   NaN   \n",
       "\n",
       "         Normalised likes  \n",
       "0                0.154242  \n",
       "1                0.008799  \n",
       "2                0.001132  \n",
       "3                0.249637  \n",
       "4                0.000003  \n",
       "...                   ...  \n",
       "3621386          0.000081  \n",
       "3621387          0.223834  \n",
       "3621388          0.116783  \n",
       "3621389          1.197640  \n",
       "3621390          0.000119  \n",
       "\n",
       "[3621391 rows x 15 columns]"
      ]
     },
     "execution_count": 7,
     "metadata": {},
     "output_type": "execute_result"
    }
   ],
   "source": [
    "df2"
   ]
  },
  {
   "cell_type": "markdown",
   "metadata": {},
   "source": [
    "First, the absolute **likes** gained between the oldest and latest date for each Facebook pages are calculated."
   ]
  },
  {
   "cell_type": "code",
   "execution_count": 8,
   "metadata": {},
   "outputs": [],
   "source": [
    "Group_likes=(df2.sort_values(by='time',ascending=False)).groupby(['facebook_id'])"
   ]
  },
  {
   "cell_type": "code",
   "execution_count": 9,
   "metadata": {},
   "outputs": [],
   "source": [
    "top10=(Group_likes[['likes']].first()-Group_likes[['likes']].last()).sort_values(by='likes',ascending=False)[0:10]"
   ]
  },
  {
   "cell_type": "code",
   "execution_count": 10,
   "metadata": {},
   "outputs": [],
   "source": [
    "pagename=[]\n",
    "for i in (top10.index):\n",
    "    pagename.append((Group_likes.get_group(i)['username'].head(1)).values[0])\n",
    "    "
   ]
  },
  {
   "cell_type": "code",
   "execution_count": 11,
   "metadata": {},
   "outputs": [],
   "source": [
    "pagename=['FB',\n",
    " 'netflix',\n",
    " 'org',\n",
    " 'McD',\n",
    " 'McDUS',\n",
    " 'wwe',\n",
    " 'Spotify',\n",
    " 'Intel',\n",
    " 'KFC',\n",
    " 'Avon']"
   ]
  },
  {
   "cell_type": "code",
   "execution_count": 12,
   "metadata": {},
   "outputs": [],
   "source": [
    "top10.insert(0,'FB name',pagename)"
   ]
  },
  {
   "cell_type": "code",
   "execution_count": 13,
   "metadata": {},
   "outputs": [
    {
     "data": {
      "text/html": [
       "<div>\n",
       "<style scoped>\n",
       "    .dataframe tbody tr th:only-of-type {\n",
       "        vertical-align: middle;\n",
       "    }\n",
       "\n",
       "    .dataframe tbody tr th {\n",
       "        vertical-align: top;\n",
       "    }\n",
       "\n",
       "    .dataframe thead th {\n",
       "        text-align: right;\n",
       "    }\n",
       "</style>\n",
       "<table border=\"1\" class=\"dataframe\">\n",
       "  <thead>\n",
       "    <tr style=\"text-align: right;\">\n",
       "      <th></th>\n",
       "      <th>FB name</th>\n",
       "      <th>likes</th>\n",
       "    </tr>\n",
       "    <tr>\n",
       "      <th>facebook_id</th>\n",
       "      <th></th>\n",
       "      <th></th>\n",
       "    </tr>\n",
       "  </thead>\n",
       "  <tbody>\n",
       "    <tr>\n",
       "      <th>20531316728</th>\n",
       "      <td>FB</td>\n",
       "      <td>46823180</td>\n",
       "    </tr>\n",
       "    <tr>\n",
       "      <th>475822799216240</th>\n",
       "      <td>netflix</td>\n",
       "      <td>33522967</td>\n",
       "    </tr>\n",
       "    <tr>\n",
       "      <th>7558451780</th>\n",
       "      <td>org</td>\n",
       "      <td>19237428</td>\n",
       "    </tr>\n",
       "    <tr>\n",
       "      <th>10150097174480584</th>\n",
       "      <td>McD</td>\n",
       "      <td>17256164</td>\n",
       "    </tr>\n",
       "    <tr>\n",
       "      <th>50245567013</th>\n",
       "      <td>McDUS</td>\n",
       "      <td>17226714</td>\n",
       "    </tr>\n",
       "    <tr>\n",
       "      <th>7175346442</th>\n",
       "      <td>wwe</td>\n",
       "      <td>14864980</td>\n",
       "    </tr>\n",
       "    <tr>\n",
       "      <th>6243987495</th>\n",
       "      <td>Spotify</td>\n",
       "      <td>13778512</td>\n",
       "    </tr>\n",
       "    <tr>\n",
       "      <th>22707976849</th>\n",
       "      <td>Intel</td>\n",
       "      <td>13766457</td>\n",
       "    </tr>\n",
       "    <tr>\n",
       "      <th>7144906559</th>\n",
       "      <td>KFC</td>\n",
       "      <td>12196624</td>\n",
       "    </tr>\n",
       "    <tr>\n",
       "      <th>47274846623</th>\n",
       "      <td>Avon</td>\n",
       "      <td>10089024</td>\n",
       "    </tr>\n",
       "  </tbody>\n",
       "</table>\n",
       "</div>"
      ],
      "text/plain": [
       "                   FB name     likes\n",
       "facebook_id                         \n",
       "20531316728             FB  46823180\n",
       "475822799216240    netflix  33522967\n",
       "7558451780             org  19237428\n",
       "10150097174480584      McD  17256164\n",
       "50245567013          McDUS  17226714\n",
       "7175346442             wwe  14864980\n",
       "6243987495         Spotify  13778512\n",
       "22707976849          Intel  13766457\n",
       "7144906559             KFC  12196624\n",
       "47274846623           Avon  10089024"
      ]
     },
     "execution_count": 13,
     "metadata": {},
     "output_type": "execute_result"
    }
   ],
   "source": [
    "top10"
   ]
  },
  {
   "cell_type": "code",
   "execution_count": 14,
   "metadata": {},
   "outputs": [
    {
     "data": {
      "image/png": "[encoded data removed]",
      "text/plain": [
       "<Figure size 432x288 with 1 Axes>"
      ]
     },
     "metadata": {},
     "output_type": "display_data"
    }
   ],
   "source": [
    "import matplotlib.pyplot as plt\n",
    "%matplotlib inline\n",
    "\n",
    "plt.style.use('ggplot')\n",
    "\n",
    "x = top10['FB name']\n",
    "likes = top10['likes']\n",
    "\n",
    "x_pos = [i for i, _ in enumerate(x)]\n",
    "\n",
    "plt.bar(x_pos, likes, color='green')\n",
    "plt.xlabel(\"Facebook page\")\n",
    "plt.ylabel(\"Facebook likes gain\")\n",
    "plt.title(\"Figure 2: Top 10 Faebook likes gain\")\n",
    "\n",
    "plt.xticks(x_pos, x)\n",
    "\n",
    "plt.show()"
   ]
  },
  {
   "cell_type": "markdown",
   "metadata": {},
   "source": [
    "Note: FB=Facebook, org=orange"
   ]
  },
  {
   "cell_type": "markdown",
   "metadata": {},
   "source": [
    "The absolute **likes** gain does not take into account the existing size of the page as well as the time taken to gain the likes. In order to get a more comparable data, the **likes values are normalised** and then **divided by the time frame** taken to gain those number of likes.    "
   ]
  },
  {
   "cell_type": "code",
   "execution_count": 15,
   "metadata": {},
   "outputs": [],
   "source": [
    "diff_likes_norm=(Group_likes[['Normalised likes']].first()-Group_likes[['Normalised likes']].last())"
   ]
  },
  {
   "cell_type": "code",
   "execution_count": 16,
   "metadata": {},
   "outputs": [],
   "source": [
    "diff_time_norm=(Group_likes[['time']].first()-Group_likes[['time']].last()).astype('timedelta64[D]')"
   ]
  },
  {
   "cell_type": "code",
   "execution_count": 17,
   "metadata": {},
   "outputs": [],
   "source": [
    "x=diff_likes_norm/diff_time_norm.values"
   ]
  },
  {
   "cell_type": "code",
   "execution_count": 18,
   "metadata": {},
   "outputs": [],
   "source": [
    "top10_norm=x.sort_values(by='Normalised likes',ascending=False)[0:10]\n"
   ]
  },
  {
   "cell_type": "code",
   "execution_count": 19,
   "metadata": {},
   "outputs": [],
   "source": [
    "pagename_norm1=[]\n",
    "for i in (top10_norm.index):\n",
    "    pagename_norm1.append((Group_likes.get_group(i)['username'].head(1)).values[0])"
   ]
  },
  {
   "cell_type": "code",
   "execution_count": 20,
   "metadata": {},
   "outputs": [],
   "source": [
    "pagename_norm=['FB',\n",
    " 'netfx',\n",
    " 'BkUS',\n",
    " 'McD',\n",
    " 'McDUS',\n",
    " 'org',\n",
    " 'Bk',\n",
    " 'KFC',\n",
    " 'Sptfy',\n",
    " 'Marvel']"
   ]
  },
  {
   "cell_type": "code",
   "execution_count": 21,
   "metadata": {},
   "outputs": [],
   "source": [
    "top10_norm.insert(0,'FB name',pagename_norm)\n"
   ]
  },
  {
   "cell_type": "code",
   "execution_count": 22,
   "metadata": {},
   "outputs": [
    {
     "data": {
      "image/png": "[encoded data removed]",
      "text/plain": [
       "<Figure size 432x288 with 1 Axes>"
      ]
     },
     "metadata": {},
     "output_type": "display_data"
    }
   ],
   "source": [
    "import matplotlib.pyplot as plt\n",
    "%matplotlib inline\n",
    "\n",
    "plt.style.use('ggplot')\n",
    "\n",
    "x = top10_norm['FB name']\n",
    "likes = top10_norm['Normalised likes']\n",
    "\n",
    "x_pos = [i for i, _ in enumerate(x)]\n",
    "\n",
    "plt.bar(x_pos, likes, color='blue')\n",
    "plt.xlabel(\"Facebook page\")\n",
    "plt.ylabel(\"Facebook normalised likes gain rate\")\n",
    "plt.title(\"Figure 3: Top 10 Faebook normalised likes gain rate\")\n",
    "\n",
    "plt.xticks(x_pos, x)\n",
    "\n",
    "plt.show()"
   ]
  },
  {
   "cell_type": "code",
   "execution_count": 23,
   "metadata": {},
   "outputs": [
    {
     "data": {
      "text/html": [
       "<div>\n",
       "<style scoped>\n",
       "    .dataframe tbody tr th:only-of-type {\n",
       "        vertical-align: middle;\n",
       "    }\n",
       "\n",
       "    .dataframe tbody tr th {\n",
       "        vertical-align: top;\n",
       "    }\n",
       "\n",
       "    .dataframe thead th {\n",
       "        text-align: right;\n",
       "    }\n",
       "</style>\n",
       "<table border=\"1\" class=\"dataframe\">\n",
       "  <thead>\n",
       "    <tr style=\"text-align: right;\">\n",
       "      <th></th>\n",
       "      <th>FB name</th>\n",
       "      <th>Normalised likes</th>\n",
       "    </tr>\n",
       "    <tr>\n",
       "      <th>facebook_id</th>\n",
       "      <th></th>\n",
       "      <th></th>\n",
       "    </tr>\n",
       "  </thead>\n",
       "  <tbody>\n",
       "    <tr>\n",
       "      <th>20531316728</th>\n",
       "      <td>FB</td>\n",
       "      <td>0.008693</td>\n",
       "    </tr>\n",
       "    <tr>\n",
       "      <th>475822799216240</th>\n",
       "      <td>netfx</td>\n",
       "      <td>0.006218</td>\n",
       "    </tr>\n",
       "    <tr>\n",
       "      <th>303492549842824</th>\n",
       "      <td>BkUS</td>\n",
       "      <td>0.003781</td>\n",
       "    </tr>\n",
       "    <tr>\n",
       "      <th>10150097174480584</th>\n",
       "      <td>McD</td>\n",
       "      <td>0.003637</td>\n",
       "    </tr>\n",
       "    <tr>\n",
       "      <th>50245567013</th>\n",
       "      <td>McDUS</td>\n",
       "      <td>0.003635</td>\n",
       "    </tr>\n",
       "    <tr>\n",
       "      <th>7558451780</th>\n",
       "      <td>org</td>\n",
       "      <td>0.003044</td>\n",
       "    </tr>\n",
       "    <tr>\n",
       "      <th>131840030178250</th>\n",
       "      <td>Bk</td>\n",
       "      <td>0.002658</td>\n",
       "    </tr>\n",
       "    <tr>\n",
       "      <th>7144906559</th>\n",
       "      <td>KFC</td>\n",
       "      <td>0.002581</td>\n",
       "    </tr>\n",
       "    <tr>\n",
       "      <th>6243987495</th>\n",
       "      <td>Sptfy</td>\n",
       "      <td>0.002572</td>\n",
       "    </tr>\n",
       "    <tr>\n",
       "      <th>6883542487</th>\n",
       "      <td>Marvel</td>\n",
       "      <td>0.002564</td>\n",
       "    </tr>\n",
       "  </tbody>\n",
       "</table>\n",
       "</div>"
      ],
      "text/plain": [
       "                  FB name  Normalised likes\n",
       "facebook_id                                \n",
       "20531316728            FB          0.008693\n",
       "475822799216240     netfx          0.006218\n",
       "303492549842824      BkUS          0.003781\n",
       "10150097174480584     McD          0.003637\n",
       "50245567013         McDUS          0.003635\n",
       "7558451780            org          0.003044\n",
       "131840030178250        Bk          0.002658\n",
       "7144906559            KFC          0.002581\n",
       "6243987495          Sptfy          0.002572\n",
       "6883542487         Marvel          0.002564"
      ]
     },
     "execution_count": 23,
     "metadata": {},
     "output_type": "execute_result"
    }
   ],
   "source": [
    "top10_norm"
   ]
  },
  {
   "cell_type": "markdown",
   "metadata": {},
   "source": [
    "Note: FB=Facebook,\n",
    "      netfx=netflix,\n",
    "      BkUS=BookingcomUS,\n",
    "      org=orange,\n",
    "      Bk=Bookingcom,\n",
    "      Sptfy=Spotify"
   ]
  },
  {
   "cell_type": "markdown",
   "metadata": {},
   "source": [
    "Analysing Figure 2 and 3, **seven out ten** Facebook pages in top 10 absolute likes gain also made to top 10 normalised likes rate. These pages are **'Facebook', 'netflix', 'orange', 'McD', 'McDUS', 'Spotify', and 'KFC'**.\n",
    "\n",
    "Those that exist **exclusively** only on top 10 \n",
    "**absolute likes gain** (Figure 2) are **'wwe', 'intel' and 'avon'**.\n",
    "\n",
    "Those that exist **exclusively** only on top 10 **normalised likes rate** (Figure 3) are **'BookingcomUS', 'Bookingcom' and 'marvel'**.\n",
    " "
   ]
  },
  {
   "cell_type": "markdown",
   "metadata": {},
   "source": [
    "Next, the top 5 normalised likes rate Facebook pages are plotted against the time scale. Note that, the lastest date of the month and the total like at that time are used to develop the graph."
   ]
  },
  {
   "cell_type": "code",
   "execution_count": 24,
   "metadata": {},
   "outputs": [],
   "source": [
    "year=pd.DatetimeIndex(df2['time']).year\n",
    "month=pd.DatetimeIndex(df2['time']).month\n",
    "df2['time']=df2['time'].dt.tz_localize(None)\n",
    "df3=df2\n"
   ]
  },
  {
   "cell_type": "code",
   "execution_count": 25,
   "metadata": {},
   "outputs": [],
   "source": [
    "df3['year']=year\n",
    "df3['month']=month\n",
    "Group_plot=(df3.sort_values(by='time',ascending=False)).groupby(['facebook_id'])"
   ]
  },
  {
   "cell_type": "code",
   "execution_count": 26,
   "metadata": {},
   "outputs": [],
   "source": [
    "page_rate=top10_norm.index[0:5]"
   ]
  },
  {
   "cell_type": "code",
   "execution_count": 27,
   "metadata": {},
   "outputs": [],
   "source": [
    "all_time=[]\n",
    "all_likes=[]\n",
    "for i in page_rate:\n",
    "    xr=Group_plot.get_group(i).groupby(['year','month'])\n",
    "    all_time.append(xr.head(1)['time'])\n",
    "    all_likes.append(xr.head(1)['likes'])\n"
   ]
  },
  {
   "cell_type": "code",
   "execution_count": 28,
   "metadata": {},
   "outputs": [],
   "source": [
    "x=all_time\n",
    "min_date=[]\n",
    "max_date=[]\n",
    "for i in range(5):\n",
    "    min_date.append(min(x[i]))\n",
    "    max_date.append(max(x[i]))\n",
    "    \n",
    "Min_final=min(min_date)\n",
    "Max_final=max(max_date)\n"
   ]
  },
  {
   "cell_type": "code",
   "execution_count": 29,
   "metadata": {},
   "outputs": [
    {
     "data": {
      "text/plain": [
       "['facebook',\n",
       " 'netflix',\n",
       " 'bookingcomUS',\n",
       " 'McDonalds',\n",
       " 'McDonaldsUS',\n",
       " 'orange',\n",
       " 'bookingcom',\n",
       " 'KFC',\n",
       " 'Spotify',\n",
       " 'Marvel']"
      ]
     },
     "execution_count": 29,
     "metadata": {},
     "output_type": "execute_result"
    }
   ],
   "source": [
    "pagename_norm1"
   ]
  },
  {
   "cell_type": "code",
   "execution_count": 31,
   "metadata": {},
   "outputs": [
    {
     "data": {
      "image/png": "[encoded data removed]",
      "text/plain": [
       "<Figure size 432x288 with 1 Axes>"
      ]
     },
     "metadata": {},
     "output_type": "display_data"
    }
   ],
   "source": [
    "import numpy as np\n",
    "import matplotlib.pyplot as plt\n",
    "import matplotlib.dates as mdates\n",
    "from pandas.plotting import register_matplotlib_converters\n",
    "register_matplotlib_converters()\n",
    "\n",
    "years = mdates.YearLocator()   # every year\n",
    "months = mdates.MonthLocator()  # every month\n",
    "days = mdates.DayLocator()  # every month\n",
    "years_fmt = mdates.DateFormatter('%Y')\n",
    "\n",
    "fig, ax = plt.subplots()\n",
    "for i in range(len(all_time)):\n",
    "    ax.plot(all_time[i],all_likes[i],label=pagename_norm1[i])\n",
    "\n",
    "\n",
    "# format the ticks\n",
    "ax.xaxis.set_major_locator(years)\n",
    "ax.xaxis.set_major_formatter(years_fmt)\n",
    "ax.xaxis.set_minor_locator(months)\n",
    "ax.legend()\n",
    "# round to nearest years.\n",
    "datemin = np.datetime64(Min_final, 'Y')\n",
    "datemax = np.datetime64(Max_final, 'Y') + np.timedelta64(1, 'Y')\n",
    "ax.set_xlim(datemin, datemax)\n",
    "\n",
    "# format the coords message box\n",
    "plt.xlabel(\"Year\")\n",
    "plt.ylabel(\"Facebook likes\")\n",
    "plt.title(\"Fig. 4: Top 5 FB page likes gain vs years\") \n",
    "ax.grid(True)\n",
    "\n",
    "\n",
    "# rotates and right aligns the x labels, and moves the bottom of the\n",
    "# axes up to make room for them\n",
    "fig.autofmt_xdate()\n",
    "\n",
    "plt.show()"
   ]
  },
  {
   "cell_type": "markdown",
   "metadata": {},
   "source": [
    "Note: McDonalds and McDonaldsUS have almost identical growth and FB likes which made their graphs to overlap. "
   ]
  },
  {
   "cell_type": "markdown",
   "metadata": {},
   "source": [
    "From Figure 4, it can be seen that the **Facebook** page (red) itself has the **steepest curve**, followed by Netflix (dark blue), bookingcomUS(light blue), and the two McD pages(green; grey is overlapped).\n",
    "\n",
    "**bookingcomUS** is a new Facebook page started on **20th April 2018** any only have time span of **88 days**. However, they have shown great rate in gaining Facebook likes in its early establishment. "
   ]
  },
  {
   "cell_type": "code",
   "execution_count": 315,
   "metadata": {},
   "outputs": [
    {
     "data": {
      "text/plain": [
       "array([88], dtype='timedelta64[D]')"
      ]
     },
     "execution_count": 315,
     "metadata": {},
     "output_type": "execute_result"
    }
   ],
   "source": [
    "(Group_likes.get_group(303492549842824)['time'].head(1).values-Group_likes.get_group(303492549842824)['time'].tail(1).values).astype('timedelta64[D]')"
   ]
  },
  {
   "cell_type": "code",
   "execution_count": 316,
   "metadata": {},
   "outputs": [
    {
     "data": {
      "text/plain": [
       "3411815   2018-04-20 04:00:00+00:00\n",
       "Name: time, dtype: datetime64[ns, UTC]"
      ]
     },
     "execution_count": 316,
     "metadata": {},
     "output_type": "execute_result"
    }
   ],
   "source": [
    "Group_likes.get_group(303492549842824)['time'].tail(1)"
   ]
  },
  {
   "cell_type": "markdown",
   "metadata": {},
   "source": [
    "## 3.0 Examination of relationship between Facebook likes and Facebook talking about count"
   ]
  },
  {
   "cell_type": "markdown",
   "metadata": {},
   "source": [
    "Next the top 5 Facebook pages that showed the most likes gained overtime are examined against the talking about count value. The aim here is to find whether there is a corelation between number or likes gained each month vs the talking about count. The number of likes gained each month determined by subtracting the newer month against the latest month likes count. While the average value of each month is used for talking about count value. Using these two values the corellation value is determined."
   ]
  },
  {
   "cell_type": "code",
   "execution_count": 32,
   "metadata": {},
   "outputs": [],
   "source": [
    "all_thumb=[]\n",
    "all_talk=[]\n",
    "all_corrcoef=[]\n",
    "for i in range(len(top10_norm[0:5])):\n",
    "    likes_gain=[]\n",
    "    for j in range(len(all_likes[i])-1):\n",
    "        likes_gain.append(all_likes[i].values[j]-all_likes[i].values[j+1])\n",
    "    talk=(Group_plot.get_group(top10_norm.index[i]).groupby(['year','month'])['talking_about_count'].agg('mean')).values[::-1]\n",
    "    talk=talk[0:-1]\n",
    "    all_thumb.append(likes_gain)\n",
    "    all_talk.append(talk)\n",
    "    arr = np.array(likes_gain) \n",
    "    all_corrcoef.append(np.corrcoef(talk,arr)[0][1])\n"
   ]
  },
  {
   "cell_type": "code",
   "execution_count": 43,
   "metadata": {},
   "outputs": [
    {
     "data": {
      "text/html": [
       "<div>\n",
       "<style scoped>\n",
       "    .dataframe tbody tr th:only-of-type {\n",
       "        vertical-align: middle;\n",
       "    }\n",
       "\n",
       "    .dataframe tbody tr th {\n",
       "        vertical-align: top;\n",
       "    }\n",
       "\n",
       "    .dataframe thead th {\n",
       "        text-align: right;\n",
       "    }\n",
       "</style>\n",
       "<table border=\"1\" class=\"dataframe\">\n",
       "  <thead>\n",
       "    <tr style=\"text-align: right;\">\n",
       "      <th></th>\n",
       "      <th>FB name</th>\n",
       "      <th>Correlation</th>\n",
       "    </tr>\n",
       "    <tr>\n",
       "      <th>facebook_id</th>\n",
       "      <th></th>\n",
       "      <th></th>\n",
       "    </tr>\n",
       "  </thead>\n",
       "  <tbody>\n",
       "    <tr>\n",
       "      <th>20531316728</th>\n",
       "      <td>FB</td>\n",
       "      <td>0.073317</td>\n",
       "    </tr>\n",
       "    <tr>\n",
       "      <th>475822799216240</th>\n",
       "      <td>netfx</td>\n",
       "      <td>0.250758</td>\n",
       "    </tr>\n",
       "    <tr>\n",
       "      <th>303492549842824</th>\n",
       "      <td>BkUS</td>\n",
       "      <td>0.759814</td>\n",
       "    </tr>\n",
       "    <tr>\n",
       "      <th>10150097174480584</th>\n",
       "      <td>McD</td>\n",
       "      <td>0.536754</td>\n",
       "    </tr>\n",
       "    <tr>\n",
       "      <th>50245567013</th>\n",
       "      <td>McDUS</td>\n",
       "      <td>0.107279</td>\n",
       "    </tr>\n",
       "  </tbody>\n",
       "</table>\n",
       "</div>"
      ],
      "text/plain": [
       "                  FB name  Correlation\n",
       "facebook_id                           \n",
       "20531316728            FB     0.073317\n",
       "475822799216240     netfx     0.250758\n",
       "303492549842824      BkUS     0.759814\n",
       "10150097174480584     McD     0.536754\n",
       "50245567013         McDUS     0.107279"
      ]
     },
     "execution_count": 43,
     "metadata": {},
     "output_type": "execute_result"
    }
   ],
   "source": [
    "Coerf=top10_norm[0:5]\n",
    "Coerf=Coerf.drop(['Normalised likes'],axis=1)\n",
    "se = pd.Series(all_corrcoef)\n",
    "Coerf['Correlation']=se.values\n",
    "Coerf"
   ]
  },
  {
   "cell_type": "code",
   "execution_count": 72,
   "metadata": {},
   "outputs": [
    {
     "data": {
      "image/png": "[encoded data removed]",
      "text/plain": [
       "<Figure size 432x288 with 1 Axes>"
      ]
     },
     "metadata": {},
     "output_type": "display_data"
    }
   ],
   "source": [
    "years = mdates.YearLocator()   # every year\n",
    "months = mdates.MonthLocator()  # every month\n",
    "days = mdates.DayLocator()  # every month\n",
    "month_fmt = mdates.DateFormatter('%m')\n",
    "\n",
    "fig, ax = plt.subplots()\n",
    "\n",
    "ax.plot(all_time[2].values[0:-1],all_thumb[2],label='monthly likes gained')\n",
    "ax.plot(all_time[2].values[0:-1],all_talk[2],label='average talking about count')\n",
    "\n",
    "\n",
    "# format the ticks\n",
    "ax.xaxis.set_major_locator(months)\n",
    "ax.xaxis.set_major_formatter(month_fmt)\n",
    "ax.xaxis.set_minor_locator(days)\n",
    "ax.legend()\n",
    "# round to nearest years.\n",
    "\n",
    "\n",
    "# format the coords message box\n",
    "plt.xlabel(\"Month for Year 2018\")\n",
    "\n",
    "plt.title(\"BookingcomUS correlation\") \n",
    "ax.grid(True)\n",
    "\n",
    "\n",
    "# rotates and right aligns the x labels, and moves the bottom of the\n",
    "# axes up to make room for them\n",
    "fig.autofmt_xdate()\n",
    "\n",
    "plt.show()"
   ]
  },
  {
   "cell_type": "markdown",
   "metadata": {},
   "source": [
    "BookingcomUS has the higest correlation between likes and talking about count. This might explain their high rate in likes gained over time. "
   ]
  },
  {
   "cell_type": "code",
   "execution_count": null,
   "metadata": {},
   "outputs": [],
   "source": []
  }
 ],
 "metadata": {
  "kernelspec": {
   "display_name": "Python 3",
   "language": "python",
   "name": "python3"
  },
  "language_info": {
   "codemirror_mode": {
    "name": "ipython",
    "version": 3
   },
   "file_extension": ".py",
   "mimetype": "text/x-python",
   "name": "python",
   "nbconvert_exporter": "python",
   "pygments_lexer": "ipython3",
   "version": "3.8.0"
  }
 },
 "nbformat": 4,
 "nbformat_minor": 4
}
