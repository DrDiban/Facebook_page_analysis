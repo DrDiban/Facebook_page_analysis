{
 "cells": [
  {
   "cell_type": "markdown",
   "metadata": {},
   "source": [
    "# Analytic of Facebook Followers"
   ]
  },
  {
   "cell_type": "markdown",
   "metadata": {},
   "source": [
    "## 1.0 Data clean up"
   ]
  },
  {
   "cell_type": "code",
   "execution_count": 1,
   "metadata": {},
   "outputs": [
    {
     "name": "stderr",
     "output_type": "stream",
     "text": [
      "c:\\users\\dr diban\\appdata\\local\\programs\\python\\python38\\lib\\site-packages\\IPython\\core\\interactiveshell.py:3062: DtypeWarning: Columns (9) have mixed types. Specify dtype option on import or set low_memory=False.\n",
      "  has_raised = await self.run_ast_nodes(code_ast.body, cell_name,\n"
     ]
    }
   ],
   "source": [
    "import pandas as pd\n",
    "df=pd.read_csv('C:/Users/Dr Diban/Downloads/temp_datalab_records_social_facebook/temp_datalab_records_social_facebook.csv')"
   ]
  },
  {
   "cell_type": "code",
   "execution_count": 2,
   "metadata": {},
   "outputs": [],
   "source": [
    "import re\n",
    "import requests\n",
    "import urllib.request as urllib2"
   ]
  },
  {
   "cell_type": "code",
   "execution_count": 38,
   "metadata": {},
   "outputs": [],
   "source": [
    "times=pd.to_datetime(df['time'],format='%Y-%m-%d')\n",
    "df['time']=times\n"
   ]
  },
  {
   "cell_type": "code",
   "execution_count": 4,
   "metadata": {},
   "outputs": [
    {
     "name": "stdout",
     "output_type": "stream",
     "text": [
      "0                               Chain\n",
      "1                          McDonald’s\n",
      "2                           Starbucks\n",
      "3                              Subway\n",
      "4                           Taco Bell\n",
      "                    ...              \n",
      "246                       Metro Diner\n",
      "247           Freebirds World Burrito\n",
      "248                 Togo’s Sandwiches\n",
      "249    Costa Vida Fresh Mexican Grill\n",
      "250             L&L Hawaiian Barbecue\n",
      "Name: 1, Length: 251, dtype: object\n"
     ]
    }
   ],
   "source": [
    "url = 'https://www.fsdbco.com/top-250-restaurant-chains-us-2019/'\n",
    "html = requests.get(url).content\n",
    "df_list = pd.read_html(html)\n",
    "df_t = df_list[-1]\n",
    "print(df_t[1])"
   ]
  },
  {
   "cell_type": "code",
   "execution_count": 7,
   "metadata": {},
   "outputs": [],
   "source": [
    "Group_sort_all=(df.sort_values(by='time',ascending=False)).groupby(['facebook_id'])"
   ]
  },
  {
   "cell_type": "code",
   "execution_count": 59,
   "metadata": {},
   "outputs": [],
   "source": [
    "df_t['names'] = df_t[1].apply(lambda x: re.sub('[ ’]','',x).lower())"
   ]
  },
  {
   "cell_type": "code",
   "execution_count": 61,
   "metadata": {},
   "outputs": [],
   "source": [
    "##Finding username in Top 250 F&B names\n",
    "user=Group_sort_all[['username']].head(1).apply(lambda x: x.str.lower()).values\n",
    "names=df_t['names'].values[1::]\n",
    "top_250_user=len(names)\n",
    "user=[re.sub(\"us$\",\"\", str(elem[0])) for elem in user]\n",
    "total_user=len(Group_sort_all[['username']].head(1))\n",
    "filt_user=[]\n",
    "for i in range(total_user):\n",
    "    for j in range(top_250_user):\n",
    "        if re.match(user[i]+'[a-z]*',names[j]):\n",
    "            filt_user.append(True)\n",
    "            break\n",
    "        if not re.match(user[i]+'[a-z]*',names[j]) and j==(top_250_user-1):\n",
    "            filt_user.append(False) \n"
   ]
  },
  {
   "cell_type": "code",
   "execution_count": 62,
   "metadata": {},
   "outputs": [],
   "source": [
    "nn=[]\n",
    "for i in range(len(user)):\n",
    "    if user[i]=='nan':\n",
    "        nn.append(i)"
   ]
  },
  {
   "cell_type": "code",
   "execution_count": 63,
   "metadata": {},
   "outputs": [],
   "source": [
    "nan_fb_id=[]\n",
    "for i in range(len(nn)):\n",
    "    nan_fb_id.append(df['facebook_id'].loc[Group_sort_all[['username']].head(1).iloc[nn[i]].name])"
   ]
  },
  {
   "cell_type": "code",
   "execution_count": 64,
   "metadata": {},
   "outputs": [],
   "source": [
    "##Facebook name for NaN_username\n",
    "nan_fb_name=[]\n",
    "for i in range (len(nan_fb_id)):\n",
    "    r = requests.get(\"https://www.facebook.com/\"+str(nan_fb_id[i]))\n",
    "    page_source = r.text              \n",
    "    nan_fb_name.append(re.findall(r'\"pageTitle\">[a-zA-z &]+', page_source))"
   ]
  },
  {
   "cell_type": "code",
   "execution_count": 24,
   "metadata": {},
   "outputs": [],
   "source": [
    "nan_fb_name[2]=[\"40|86 Advisors\"]"
   ]
  },
  {
   "cell_type": "code",
   "execution_count": 25,
   "metadata": {},
   "outputs": [
    {
     "data": {
      "text/plain": [
       "[['\"pageTitle\">Countryplace Mortgage '],\n",
       " ['\"pageTitle\">Parrot'],\n",
       " ['40|86 Advisors'],\n",
       " ['\"pageTitle\">Progressive Waste Solutions '],\n",
       " ['\"pageTitle\">Armstrong Aerospace '],\n",
       " ['\"pageTitle\">Astronics AES '],\n",
       " ['\"pageTitle\">eSecurityPlanet'],\n",
       " ['\"pageTitle\">Ballard Power Systems '],\n",
       " ['\"pageTitle\">Siskiyou Daily News '],\n",
       " ['\"pageTitle\">Endo International plc '],\n",
       " ['\"pageTitle\">North Attleborough Free Press '],\n",
       " ['\"pageTitle\">Facebook'],\n",
       " ['\"pageTitle\">Plumas Bank '],\n",
       " ['\"pageTitle\">Facebook'],\n",
       " ['\"pageTitle\">Facebook'],\n",
       " ['\"pageTitle\">Facebook'],\n",
       " ['\"pageTitle\">Astec'],\n",
       " ['\"pageTitle\">BTX Harvard Apparatus '],\n",
       " ['\"pageTitle\">ParkerVision'],\n",
       " ['\"pageTitle\">Federal Signal EMComm '],\n",
       " ['\"pageTitle\">Lake Shore Savings Bank '],\n",
       " ['\"pageTitle\">Facebook'],\n",
       " ['\"pageTitle\">Southwest Daily News '],\n",
       " ['\"pageTitle\">Douglas Emmett Properties '],\n",
       " ['\"pageTitle\">Sparton '],\n",
       " ['\"pageTitle\">Best Distributing '],\n",
       " ['\"pageTitle\">MotherWord '],\n",
       " ['\"pageTitle\">Facebook'],\n",
       " ['\"pageTitle\">General Dynamics Bath Iron Works '],\n",
       " ['\"pageTitle\">AMETEK'],\n",
       " ['\"pageTitle\">Max'],\n",
       " ['\"pageTitle\">RADCOM '],\n",
       " ['\"pageTitle\">Simunition '],\n",
       " ['\"pageTitle\">Alpha and Omega Semiconductor '],\n",
       " ['\"pageTitle\">Lexicon Pharmaceuticals'],\n",
       " ['\"pageTitle\">ITG Analytics Incubator '],\n",
       " ['\"pageTitle\">Fabcor '],\n",
       " ['\"pageTitle\">Facebook'],\n",
       " ['\"pageTitle\">ADM Animal Nutrition '],\n",
       " ['\"pageTitle\">ZEA BBDO '],\n",
       " ['\"pageTitle\">Cadiz Water Project '],\n",
       " ['\"pageTitle\">Anavex Life Sciences Corp'],\n",
       " ['\"pageTitle\">FutureFuel Chemical Company '],\n",
       " ['\"pageTitle\">Energy BBDO '],\n",
       " ['\"pageTitle\">Atlas Financial Holdings'],\n",
       " ['\"pageTitle\">Facebook'],\n",
       " ['\"pageTitle\">OHR Pharmaceutical Inc'],\n",
       " ['\"pageTitle\">Northstar Hub '],\n",
       " ['\"pageTitle\">Marcus &amp'],\n",
       " ['\"pageTitle\">RLJ Credit Opportunity Fund'],\n",
       " ['\"pageTitle\">Alamogordo Daily News '],\n",
       " ['\"pageTitle\">Team Industrial Services'],\n",
       " ['\"pageTitle\">ARB'],\n",
       " ['\"pageTitle\">Galmed Pharmaceuticals Ltd '],\n",
       " ['\"pageTitle\">Napco Security Technologies'],\n",
       " ['\"pageTitle\">Facebook'],\n",
       " ['\"pageTitle\">Facebook'],\n",
       " ['\"pageTitle\">ARC Wireless '],\n",
       " ['\"pageTitle\">Pebblebrook Hotel Trust '],\n",
       " ['\"pageTitle\">Facebook'],\n",
       " ['\"pageTitle\">Facebook'],\n",
       " ['\"pageTitle\">Build'],\n",
       " ['\"pageTitle\">Michigan'],\n",
       " ['\"pageTitle\">ARB Structures'],\n",
       " ['\"pageTitle\">Primoris Energy Services '],\n",
       " ['\"pageTitle\">Richardson Electronics'],\n",
       " ['\"pageTitle\">Times &amp'],\n",
       " ['\"pageTitle\">Orion Lighting '],\n",
       " ['\"pageTitle\">Facebook'],\n",
       " ['\"pageTitle\">ATK High Performance Engines '],\n",
       " ['\"pageTitle\">MillefioriMilano '],\n",
       " ['\"pageTitle\">Reis'],\n",
       " ['\"pageTitle\">The Hackett Group '],\n",
       " ['\"pageTitle\">Henderson Products'],\n",
       " ['\"pageTitle\">Facebook'],\n",
       " ['\"pageTitle\">Astec Australia '],\n",
       " ['\"pageTitle\">Nalley Hyundai '],\n",
       " ['\"pageTitle\">Pointer '],\n",
       " ['\"pageTitle\">Pro'],\n",
       " ['\"pageTitle\">Asia Pacific Wire &amp'],\n",
       " ['\"pageTitle\">Daily Register '],\n",
       " ['\"pageTitle\">Facebook'],\n",
       " ['\"pageTitle\">KGWN TV '],\n",
       " ['\"pageTitle\">Facebook'],\n",
       " ['\"pageTitle\">Joint Juice '],\n",
       " ['\"pageTitle\">United Rentals '],\n",
       " ['\"pageTitle\">Middleby Corporation Brands '],\n",
       " ['\"pageTitle\">The First'],\n",
       " ['\"pageTitle\">Skava '],\n",
       " ['\"pageTitle\">NIC Inc'],\n",
       " ['\"pageTitle\">Don Miguel Foods '],\n",
       " ['\"pageTitle\">SLUSH PUPPiE '],\n",
       " ['\"pageTitle\">Fiat'],\n",
       " ['\"pageTitle\">Appliance Recycling Centers of America'],\n",
       " ['\"pageTitle\">CIO Insight '],\n",
       " ['\"pageTitle\">BBDO Atlanta '],\n",
       " ['\"pageTitle\">Intelsat '],\n",
       " ['\"pageTitle\">Psychemedics Corporation '],\n",
       " ['\"pageTitle\">Amesbury News '],\n",
       " ['\"pageTitle\">MeetMe '],\n",
       " ['\"pageTitle\">Jetboil '],\n",
       " ['\"pageTitle\">The Daily News '],\n",
       " ['\"pageTitle\">Plaquemine Post South '],\n",
       " ['\"pageTitle\">Maui Toys'],\n",
       " ['\"pageTitle\">S&amp'],\n",
       " ['\"pageTitle\">NGC Software '],\n",
       " ['\"pageTitle\">Enterprise Storage Forum '],\n",
       " ['\"pageTitle\">First Community Bank '],\n",
       " ['\"pageTitle\">Facebook'],\n",
       " ['\"pageTitle\">Renovation Experts '],\n",
       " ['\"pageTitle\">Data I'],\n",
       " ['\"pageTitle\">AppDynamics '],\n",
       " ['\"pageTitle\">Athena Documentaries '],\n",
       " ['\"pageTitle\">Newport Corporation '],\n",
       " ['\"pageTitle\">Facebook'],\n",
       " ['\"pageTitle\">Bonnell Aluminum '],\n",
       " ['\"pageTitle\">Stryker Corporation '],\n",
       " ['\"pageTitle\">Enterprise Networking Planet '],\n",
       " ['\"pageTitle\">Action Sports Today '],\n",
       " ['\"pageTitle\">Rigel Pharmaceuticals '],\n",
       " ['\"pageTitle\">Facebook'],\n",
       " ['\"pageTitle\">Facebook'],\n",
       " ['\"pageTitle\">Facebook'],\n",
       " ['\"pageTitle\">Facebook'],\n",
       " ['\"pageTitle\">Facebook'],\n",
       " ['\"pageTitle\">Facebook'],\n",
       " ['\"pageTitle\">Facebook'],\n",
       " ['\"pageTitle\">Facebook'],\n",
       " ['\"pageTitle\">Facebook'],\n",
       " ['\"pageTitle\">Facebook'],\n",
       " ['\"pageTitle\">Koppers '],\n",
       " ['\"pageTitle\">Facebook']]"
      ]
     },
     "execution_count": 25,
     "metadata": {},
     "output_type": "execute_result"
    }
   ],
   "source": [
    "nan_fb_name"
   ]
  },
  {
   "cell_type": "code",
   "execution_count": 26,
   "metadata": {},
   "outputs": [],
   "source": [
    "##Refining NaN_username Facebook name \n",
    "filt_nan_fb_name=[]\n",
    "for i in range(len(nan_fb_name)):\n",
    "    filt_nan_fb_name.append(re.sub(\" \",\"\",nan_fb_name[i][0].split('>')[-1]).lower())"
   ]
  },
  {
   "cell_type": "code",
   "execution_count": 65,
   "metadata": {},
   "outputs": [],
   "source": [
    "##Finding NaN_username in Top 250 F&B names\n",
    "total_user=len(filt_nan_fb_name)\n",
    "nan_filt_user=[]\n",
    "for i in range(total_user):\n",
    "    for j in range(top_250_user):\n",
    "        if re.match(filt_nan_fb_name[i]+'[a-z]*',names[j]):\n",
    "            nan_filt_user.append(True)\n",
    "            break\n",
    "        if not re.match(filt_nan_fb_name[i]+'[a-z]*',names[j]) and j==(top_250_user-1):\n",
    "            nan_filt_user.append(False) "
   ]
  },
  {
   "cell_type": "code",
   "execution_count": 184,
   "metadata": {},
   "outputs": [
    {
     "data": {
      "text/plain": [
       "array([['TorchlightEnergy'],\n",
       "       ['financialengines'],\n",
       "       ['johnsonsbaby'],\n",
       "       ['advanceautoparts'],\n",
       "       ['arrowheadmills'],\n",
       "       ['proximitylondon'],\n",
       "       ['caleresinc'],\n",
       "       ['mindcti'],\n",
       "       ['guidewiresoftware'],\n",
       "       ['JustCloudStorage']], dtype=object)"
      ]
     },
     "execution_count": 184,
     "metadata": {},
     "output_type": "execute_result"
    }
   ],
   "source": []
  },
  {
   "cell_type": "code",
   "execution_count": 189,
   "metadata": {},
   "outputs": [],
   "source": [
    "##Food and beverage facebook names\n",
    "user_unedit=Group_sort_all[['username']].head(1).values\n",
    "fnb=[]\n",
    "for i in range(len(user_unedit)):\n",
    "    if filt_user[i]==True:\n",
    "        fnb.append(user_unedit[i][0])  \n",
    "del fnb[12]\n",
    "del fnb[8]"
   ]
  },
  {
   "cell_type": "code",
   "execution_count": 70,
   "metadata": {},
   "outputs": [],
   "source": [
    "##Food and beverage facebook index\n",
    "index=[]\n",
    "for i in range(len(user)):\n",
    "    if filt_user[i]==True:\n",
    "        index.append(i)"
   ]
  },
  {
   "cell_type": "code",
   "execution_count": 71,
   "metadata": {},
   "outputs": [],
   "source": [
    "##Delete EA\n",
    "del index[12]\n",
    "del fnb[12]"
   ]
  },
  {
   "cell_type": "code",
   "execution_count": 72,
   "metadata": {},
   "outputs": [],
   "source": [
    "##Delete Delta\n",
    "del index[8]\n",
    "del fnb[8]"
   ]
  },
  {
   "cell_type": "code",
   "execution_count": 88,
   "metadata": {},
   "outputs": [],
   "source": [
    "fnb_id=[]\n",
    "for i in range(len(index)):\n",
    "    fnb_id.append(df['facebook_id'].iloc[Group_sort_all[['username']].head(1).iloc[index[i]].name])"
   ]
  },
  {
   "cell_type": "code",
   "execution_count": 91,
   "metadata": {},
   "outputs": [],
   "source": [
    "df_fnb=df[df['facebook_id'].isin(fnb_id)]"
   ]
  },
  {
   "cell_type": "markdown",
   "metadata": {},
   "source": [
    "## 2.0 Volatility Examination"
   ]
  },
  {
   "cell_type": "markdown",
   "metadata": {},
   "source": [
    "Top 5 most liked page in the dataset for food & beverage (USA) category based on the lastest date"
   ]
  },
  {
   "cell_type": "code",
   "execution_count": 93,
   "metadata": {},
   "outputs": [],
   "source": [
    "Group_sort=(df_fnb.sort_values(by='time',ascending=False)).groupby(['facebook_id'])"
   ]
  },
  {
   "cell_type": "code",
   "execution_count": 94,
   "metadata": {},
   "outputs": [
    {
     "data": {
      "text/html": [
       "<div>\n",
       "<style scoped>\n",
       "    .dataframe tbody tr th:only-of-type {\n",
       "        vertical-align: middle;\n",
       "    }\n",
       "\n",
       "    .dataframe tbody tr th {\n",
       "        vertical-align: top;\n",
       "    }\n",
       "\n",
       "    .dataframe thead th {\n",
       "        text-align: right;\n",
       "    }\n",
       "</style>\n",
       "<table border=\"1\" class=\"dataframe\">\n",
       "  <thead>\n",
       "    <tr style=\"text-align: right;\">\n",
       "      <th></th>\n",
       "      <th>username</th>\n",
       "      <th>likes</th>\n",
       "    </tr>\n",
       "  </thead>\n",
       "  <tbody>\n",
       "    <tr>\n",
       "      <th>3620845</th>\n",
       "      <td>McDonalds</td>\n",
       "      <td>78045025</td>\n",
       "    </tr>\n",
       "    <tr>\n",
       "      <th>3617029</th>\n",
       "      <td>McDonaldsUS</td>\n",
       "      <td>78015575</td>\n",
       "    </tr>\n",
       "    <tr>\n",
       "      <th>3618844</th>\n",
       "      <td>KFC</td>\n",
       "      <td>51635735</td>\n",
       "    </tr>\n",
       "    <tr>\n",
       "      <th>3617334</th>\n",
       "      <td>Starbucks</td>\n",
       "      <td>37189939</td>\n",
       "    </tr>\n",
       "    <tr>\n",
       "      <th>3620760</th>\n",
       "      <td>PizzaHut</td>\n",
       "      <td>31513432</td>\n",
       "    </tr>\n",
       "  </tbody>\n",
       "</table>\n",
       "</div>"
      ],
      "text/plain": [
       "            username     likes\n",
       "3620845    McDonalds  78045025\n",
       "3617029  McDonaldsUS  78015575\n",
       "3618844          KFC  51635735\n",
       "3617334    Starbucks  37189939\n",
       "3620760     PizzaHut  31513432"
      ]
     },
     "execution_count": 94,
     "metadata": {},
     "output_type": "execute_result"
    }
   ],
   "source": [
    "Group_sort[['username','likes']].head(1).sort_values(by='likes',ascending=False)[0:5]"
   ]
  },
  {
   "cell_type": "markdown",
   "metadata": {},
   "source": [
    "Bottom 5 least liked page in Facebook for food & beverage category based on the lastest date"
   ]
  },
  {
   "cell_type": "code",
   "execution_count": 95,
   "metadata": {},
   "outputs": [
    {
     "data": {
      "text/html": [
       "<div>\n",
       "<style scoped>\n",
       "    .dataframe tbody tr th:only-of-type {\n",
       "        vertical-align: middle;\n",
       "    }\n",
       "\n",
       "    .dataframe tbody tr th {\n",
       "        vertical-align: top;\n",
       "    }\n",
       "\n",
       "    .dataframe thead th {\n",
       "        text-align: right;\n",
       "    }\n",
       "</style>\n",
       "<table border=\"1\" class=\"dataframe\">\n",
       "  <thead>\n",
       "    <tr style=\"text-align: right;\">\n",
       "      <th></th>\n",
       "      <th>username</th>\n",
       "      <th>likes</th>\n",
       "    </tr>\n",
       "  </thead>\n",
       "  <tbody>\n",
       "    <tr>\n",
       "      <th>3620091</th>\n",
       "      <td>PolloTropical</td>\n",
       "      <td>176449</td>\n",
       "    </tr>\n",
       "    <tr>\n",
       "      <th>3618357</th>\n",
       "      <td>flemings</td>\n",
       "      <td>122103</td>\n",
       "    </tr>\n",
       "    <tr>\n",
       "      <th>3620512</th>\n",
       "      <td>GrandLuxCafe</td>\n",
       "      <td>81442</td>\n",
       "    </tr>\n",
       "    <tr>\n",
       "      <th>3620846</th>\n",
       "      <td>EddieVsPrimeSeafood</td>\n",
       "      <td>74770</td>\n",
       "    </tr>\n",
       "  </tbody>\n",
       "</table>\n",
       "</div>"
      ],
      "text/plain": [
       "                    username   likes\n",
       "3620091        PolloTropical  176449\n",
       "3618357             flemings  122103\n",
       "3620512         GrandLuxCafe   81442\n",
       "3620846  EddieVsPrimeSeafood   74770"
      ]
     },
     "execution_count": 95,
     "metadata": {},
     "output_type": "execute_result"
    }
   ],
   "source": [
    "Bot_5=Group_sort[['username','likes']].head(1).sort_values(by='likes',ascending=False)[-5:-1]\n",
    "Bot_5"
   ]
  },
  {
   "cell_type": "markdown",
   "metadata": {},
   "source": [
    "Mean, median and standard deviation of Facebook food & beverage category likes based on the lastest date"
   ]
  },
  {
   "cell_type": "code",
   "execution_count": 96,
   "metadata": {},
   "outputs": [
    {
     "data": {
      "text/html": [
       "<div>\n",
       "<style scoped>\n",
       "    .dataframe tbody tr th:only-of-type {\n",
       "        vertical-align: middle;\n",
       "    }\n",
       "\n",
       "    .dataframe tbody tr th {\n",
       "        vertical-align: top;\n",
       "    }\n",
       "\n",
       "    .dataframe thead th {\n",
       "        text-align: right;\n",
       "    }\n",
       "</style>\n",
       "<table border=\"1\" class=\"dataframe\">\n",
       "  <thead>\n",
       "    <tr style=\"text-align: right;\">\n",
       "      <th></th>\n",
       "      <th>likes</th>\n",
       "    </tr>\n",
       "  </thead>\n",
       "  <tbody>\n",
       "    <tr>\n",
       "      <th>median</th>\n",
       "      <td>1.347616e+06</td>\n",
       "    </tr>\n",
       "    <tr>\n",
       "      <th>mean</th>\n",
       "      <td>7.963902e+06</td>\n",
       "    </tr>\n",
       "    <tr>\n",
       "      <th>std</th>\n",
       "      <td>1.768098e+07</td>\n",
       "    </tr>\n",
       "  </tbody>\n",
       "</table>\n",
       "</div>"
      ],
      "text/plain": [
       "               likes\n",
       "median  1.347616e+06\n",
       "mean    7.963902e+06\n",
       "std     1.768098e+07"
      ]
     },
     "execution_count": 96,
     "metadata": {},
     "output_type": "execute_result"
    }
   ],
   "source": [
    "Group_sort[['username','likes']].head(1).agg(['median','mean','std'])"
   ]
  },
  {
   "cell_type": "markdown",
   "metadata": {},
   "source": [
    "The volatility of 'talking about count' is examined"
   ]
  },
  {
   "cell_type": "code",
   "execution_count": 97,
   "metadata": {},
   "outputs": [],
   "source": [
    "x=Group_sort['talking_about_count'].agg(['median','mean','std'])\n",
    "data=x.sort_values(by='std',ascending=False)[0:5]\n"
   ]
  },
  {
   "cell_type": "code",
   "execution_count": 105,
   "metadata": {},
   "outputs": [],
   "source": [
    "pagename_vol=[]\n",
    "for i in (data.index):\n",
    "    pagename_vol.append((Group_likes.get_group(i)['username'].head(1)).values[0])\n",
    "data.insert(0,'FB name',pagename_vol)"
   ]
  },
  {
   "cell_type": "code",
   "execution_count": 106,
   "metadata": {},
   "outputs": [
    {
     "data": {
      "text/html": [
       "<div>\n",
       "<style scoped>\n",
       "    .dataframe tbody tr th:only-of-type {\n",
       "        vertical-align: middle;\n",
       "    }\n",
       "\n",
       "    .dataframe tbody tr th {\n",
       "        vertical-align: top;\n",
       "    }\n",
       "\n",
       "    .dataframe thead th {\n",
       "        text-align: right;\n",
       "    }\n",
       "</style>\n",
       "<table border=\"1\" class=\"dataframe\">\n",
       "  <thead>\n",
       "    <tr style=\"text-align: right;\">\n",
       "      <th></th>\n",
       "      <th>FB name</th>\n",
       "      <th>median</th>\n",
       "      <th>mean</th>\n",
       "      <th>std</th>\n",
       "    </tr>\n",
       "    <tr>\n",
       "      <th>facebook_id</th>\n",
       "      <th></th>\n",
       "      <th></th>\n",
       "      <th></th>\n",
       "      <th></th>\n",
       "    </tr>\n",
       "  </thead>\n",
       "  <tbody>\n",
       "    <tr>\n",
       "      <th>22092443056</th>\n",
       "      <td>Starbucks</td>\n",
       "      <td>217623.0</td>\n",
       "      <td>286628.592000</td>\n",
       "      <td>227072.879456</td>\n",
       "    </tr>\n",
       "    <tr>\n",
       "      <th>134615383218473</th>\n",
       "      <td>burgerking</td>\n",
       "      <td>67275.0</td>\n",
       "      <td>108324.373957</td>\n",
       "      <td>120442.421331</td>\n",
       "    </tr>\n",
       "    <tr>\n",
       "      <th>18595834696</th>\n",
       "      <td>tacobell</td>\n",
       "      <td>43843.5</td>\n",
       "      <td>72152.128289</td>\n",
       "      <td>86549.091635</td>\n",
       "    </tr>\n",
       "    <tr>\n",
       "      <th>124149619252</th>\n",
       "      <td>chipotle</td>\n",
       "      <td>24370.0</td>\n",
       "      <td>41798.062023</td>\n",
       "      <td>58720.029172</td>\n",
       "    </tr>\n",
       "    <tr>\n",
       "      <th>6657899956</th>\n",
       "      <td>Dominos</td>\n",
       "      <td>67351.0</td>\n",
       "      <td>74853.076263</td>\n",
       "      <td>43243.994126</td>\n",
       "    </tr>\n",
       "  </tbody>\n",
       "</table>\n",
       "</div>"
      ],
      "text/plain": [
       "                    FB name    median           mean            std\n",
       "facebook_id                                                        \n",
       "22092443056       Starbucks  217623.0  286628.592000  227072.879456\n",
       "134615383218473  burgerking   67275.0  108324.373957  120442.421331\n",
       "18595834696        tacobell   43843.5   72152.128289   86549.091635\n",
       "124149619252       chipotle   24370.0   41798.062023   58720.029172\n",
       "6657899956          Dominos   67351.0   74853.076263   43243.994126"
      ]
     },
     "execution_count": 106,
     "metadata": {},
     "output_type": "execute_result"
    }
   ],
   "source": [
    "data"
   ]
  },
  {
   "cell_type": "code",
   "execution_count": 107,
   "metadata": {},
   "outputs": [
    {
     "data": {
      "image/png": "[encoded data removed]",
      "text/plain": [
       "<Figure size 432x288 with 1 Axes>"
      ]
     },
     "metadata": {
      "needs_background": "light"
     },
     "output_type": "display_data"
    }
   ],
   "source": [
    "import numpy as np\n",
    "import matplotlib.pyplot as plt\n",
    "ypos=np.arange(len(data['mean']))\n",
    "bar_with=0.25\n",
    "fig,ax=plt.subplots()\n",
    "bar_std=ax.bar(ypos-0.25,data['std'],bar_with,label='std')\n",
    "bar_median=ax.bar(ypos,data['median'],bar_with,label='median')\n",
    "bar_mean=ax.bar(ypos+0.25,data['mean'],bar_with,label='mean')\n",
    "username=['Starbucks', 'Burger King', 'Tacobell', 'Chipotle', 'Dominos']\n",
    "ax.set_xticks(ypos)\n",
    "ax.set_xticklabels(username)\n",
    "plt.ylabel('Talking about count')\n",
    "plt.xlabel('Food & beverage Facebook page')\n",
    "ax.legend()\n",
    "plt.title('Figure 1: Top 5 most volatile Facebook page std. dev., mean & median')\n",
    "plt.show()"
   ]
  },
  {
   "cell_type": "markdown",
   "metadata": {},
   "source": [
    "ManUtd pages is examined in more detail. The page is filter based on talking_about_count that is 2 standard deviation from mean value\n"
   ]
  },
  {
   "cell_type": "markdown",
   "metadata": {},
   "source": [
    "## 2.0 Facebook likes examination"
   ]
  },
  {
   "cell_type": "code",
   "execution_count": 99,
   "metadata": {},
   "outputs": [],
   "source": [
    "df2=df_fnb"
   ]
  },
  {
   "cell_type": "markdown",
   "metadata": {},
   "source": [
    "A new column repsenting normalised value for Facebook page likes are created  "
   ]
  },
  {
   "cell_type": "code",
   "execution_count": 100,
   "metadata": {},
   "outputs": [],
   "source": [
    "likes_mean=df2['likes'].mean()\n",
    "likes_std=df2['likes'].std()"
   ]
  },
  {
   "cell_type": "code",
   "execution_count": 101,
   "metadata": {},
   "outputs": [],
   "source": [
    "data2=(df2['likes']-likes_mean)/likes_std\n",
    "data2=data2-min(data2)"
   ]
  },
  {
   "cell_type": "code",
   "execution_count": 103,
   "metadata": {},
   "outputs": [],
   "source": [
    "df2.loc[:,('Normalised likes')]=data2"
   ]
  },
  {
   "cell_type": "code",
   "execution_count": 108,
   "metadata": {},
   "outputs": [
    {
     "data": {
      "text/html": [
       "<div>\n",
       "<style scoped>\n",
       "    .dataframe tbody tr th:only-of-type {\n",
       "        vertical-align: middle;\n",
       "    }\n",
       "\n",
       "    .dataframe tbody tr th {\n",
       "        vertical-align: top;\n",
       "    }\n",
       "\n",
       "    .dataframe thead th {\n",
       "        text-align: right;\n",
       "    }\n",
       "</style>\n",
       "<table border=\"1\" class=\"dataframe\">\n",
       "  <thead>\n",
       "    <tr style=\"text-align: right;\">\n",
       "      <th></th>\n",
       "      <th>dataset_id</th>\n",
       "      <th>time</th>\n",
       "      <th>username</th>\n",
       "      <th>checkins</th>\n",
       "      <th>has_added_app</th>\n",
       "      <th>were_here_count</th>\n",
       "      <th>likes</th>\n",
       "      <th>talking_about_count</th>\n",
       "      <th>facebook_id</th>\n",
       "      <th>date_added</th>\n",
       "      <th>date_updated</th>\n",
       "      <th>entity_id</th>\n",
       "      <th>cusip</th>\n",
       "      <th>isin</th>\n",
       "      <th>Normalised likes</th>\n",
       "    </tr>\n",
       "  </thead>\n",
       "  <tbody>\n",
       "    <tr>\n",
       "      <th>231</th>\n",
       "      <td>52693</td>\n",
       "      <td>2015-01-01 05:00:00+00:00</td>\n",
       "      <td>crackerbarrel</td>\n",
       "      <td>110688</td>\n",
       "      <td>f</td>\n",
       "      <td>5679526</td>\n",
       "      <td>2370971</td>\n",
       "      <td>59703</td>\n",
       "      <td>175123745870734</td>\n",
       "      <td>NaN</td>\n",
       "      <td>2017-02-14 02:02:47.053965+00</td>\n",
       "      <td>NaN</td>\n",
       "      <td>NaN</td>\n",
       "      <td>NaN</td>\n",
       "      <td>0.153215</td>\n",
       "    </tr>\n",
       "    <tr>\n",
       "      <th>233</th>\n",
       "      <td>52882</td>\n",
       "      <td>2015-01-01 05:00:00+00:00</td>\n",
       "      <td>jackinthebox</td>\n",
       "      <td>3</td>\n",
       "      <td>f</td>\n",
       "      <td>1559101</td>\n",
       "      <td>1067122</td>\n",
       "      <td>27118</td>\n",
       "      <td>46895347303</td>\n",
       "      <td>NaN</td>\n",
       "      <td>2017-02-14 02:49:11.420663+00</td>\n",
       "      <td>NaN</td>\n",
       "      <td>NaN</td>\n",
       "      <td>NaN</td>\n",
       "      <td>0.068032</td>\n",
       "    </tr>\n",
       "    <tr>\n",
       "      <th>236</th>\n",
       "      <td>52759</td>\n",
       "      <td>2015-01-01 05:00:00+00:00</td>\n",
       "      <td>dennys</td>\n",
       "      <td>61952</td>\n",
       "      <td>f</td>\n",
       "      <td>3769077</td>\n",
       "      <td>894027</td>\n",
       "      <td>11116</td>\n",
       "      <td>55330643140</td>\n",
       "      <td>NaN</td>\n",
       "      <td>2017-02-14 02:16:38.883023+00</td>\n",
       "      <td>NaN</td>\n",
       "      <td>NaN</td>\n",
       "      <td>NaN</td>\n",
       "      <td>0.056723</td>\n",
       "    </tr>\n",
       "    <tr>\n",
       "      <th>268</th>\n",
       "      <td>53137</td>\n",
       "      <td>2015-01-01 05:00:00+00:00</td>\n",
       "      <td>texasroadhouse</td>\n",
       "      <td>7</td>\n",
       "      <td>f</td>\n",
       "      <td>7525397</td>\n",
       "      <td>2674899</td>\n",
       "      <td>6156</td>\n",
       "      <td>8966519227</td>\n",
       "      <td>NaN</td>\n",
       "      <td>2017-02-14 03:46:14.151102+00</td>\n",
       "      <td>NaN</td>\n",
       "      <td>NaN</td>\n",
       "      <td>NaN</td>\n",
       "      <td>0.173071</td>\n",
       "    </tr>\n",
       "    <tr>\n",
       "      <th>336</th>\n",
       "      <td>53551</td>\n",
       "      <td>2015-01-01 05:00:00+00:00</td>\n",
       "      <td>burgerking</td>\n",
       "      <td>0</td>\n",
       "      <td>f</td>\n",
       "      <td>277389</td>\n",
       "      <td>7536694</td>\n",
       "      <td>154945</td>\n",
       "      <td>134615383218473</td>\n",
       "      <td>NaN</td>\n",
       "      <td>2017-02-14 07:19:04.519018+00</td>\n",
       "      <td>NaN</td>\n",
       "      <td>NaN</td>\n",
       "      <td>NaN</td>\n",
       "      <td>0.490700</td>\n",
       "    </tr>\n",
       "    <tr>\n",
       "      <th>...</th>\n",
       "      <td>...</td>\n",
       "      <td>...</td>\n",
       "      <td>...</td>\n",
       "      <td>...</td>\n",
       "      <td>...</td>\n",
       "      <td>...</td>\n",
       "      <td>...</td>\n",
       "      <td>...</td>\n",
       "      <td>...</td>\n",
       "      <td>...</td>\n",
       "      <td>...</td>\n",
       "      <td>...</td>\n",
       "      <td>...</td>\n",
       "      <td>...</td>\n",
       "      <td>...</td>\n",
       "    </tr>\n",
       "    <tr>\n",
       "      <th>3620760</th>\n",
       "      <td>64360</td>\n",
       "      <td>2018-07-17 04:00:00+00:00</td>\n",
       "      <td>PizzaHut</td>\n",
       "      <td>3</td>\n",
       "      <td>f</td>\n",
       "      <td>6391320</td>\n",
       "      <td>31513432</td>\n",
       "      <td>2645</td>\n",
       "      <td>321935321302049</td>\n",
       "      <td>2018-07-18 05:49:36.242969+00</td>\n",
       "      <td>2018-07-18 05:49:36.243012+00</td>\n",
       "      <td>NaN</td>\n",
       "      <td>NaN</td>\n",
       "      <td>NaN</td>\n",
       "      <td>2.057141</td>\n",
       "    </tr>\n",
       "    <tr>\n",
       "      <th>3620845</th>\n",
       "      <td>63329</td>\n",
       "      <td>2018-07-17 04:00:00+00:00</td>\n",
       "      <td>McDonalds</td>\n",
       "      <td>0</td>\n",
       "      <td>f</td>\n",
       "      <td>31950665</td>\n",
       "      <td>78045025</td>\n",
       "      <td>5497</td>\n",
       "      <td>10150097174480584</td>\n",
       "      <td>2018-07-18 05:47:04.734795+00</td>\n",
       "      <td>2018-07-18 05:47:04.734838+00</td>\n",
       "      <td>NaN</td>\n",
       "      <td>NaN</td>\n",
       "      <td>NaN</td>\n",
       "      <td>5.097129</td>\n",
       "    </tr>\n",
       "    <tr>\n",
       "      <th>3620846</th>\n",
       "      <td>60854</td>\n",
       "      <td>2018-07-17 04:00:00+00:00</td>\n",
       "      <td>EddieVsPrimeSeafood</td>\n",
       "      <td>45276</td>\n",
       "      <td>f</td>\n",
       "      <td>477153</td>\n",
       "      <td>74770</td>\n",
       "      <td>1528</td>\n",
       "      <td>120283141419641</td>\n",
       "      <td>2018-07-17 05:30:02.262788+00</td>\n",
       "      <td>2018-07-17 05:30:02.262833+00</td>\n",
       "      <td>NaN</td>\n",
       "      <td>NaN</td>\n",
       "      <td>NaN</td>\n",
       "      <td>0.003200</td>\n",
       "    </tr>\n",
       "    <tr>\n",
       "      <th>3620946</th>\n",
       "      <td>891251</td>\n",
       "      <td>2018-07-17 04:00:00+00:00</td>\n",
       "      <td>jet</td>\n",
       "      <td>2177</td>\n",
       "      <td>f</td>\n",
       "      <td>0</td>\n",
       "      <td>369332</td>\n",
       "      <td>4357</td>\n",
       "      <td>256154354583303</td>\n",
       "      <td>2018-07-18 05:49:27.68657+00</td>\n",
       "      <td>2018-07-18 05:49:27.686613+00</td>\n",
       "      <td>NaN</td>\n",
       "      <td>NaN</td>\n",
       "      <td>NaN</td>\n",
       "      <td>0.022444</td>\n",
       "    </tr>\n",
       "    <tr>\n",
       "      <th>3621369</th>\n",
       "      <td>53551</td>\n",
       "      <td>2018-07-17 04:00:00+00:00</td>\n",
       "      <td>burgerking</td>\n",
       "      <td>0</td>\n",
       "      <td>f</td>\n",
       "      <td>2976251</td>\n",
       "      <td>8224044</td>\n",
       "      <td>14762</td>\n",
       "      <td>134615383218473</td>\n",
       "      <td>2018-07-17 05:33:19.132185+00</td>\n",
       "      <td>2018-07-17 05:33:19.132206+00</td>\n",
       "      <td>NaN</td>\n",
       "      <td>NaN</td>\n",
       "      <td>NaN</td>\n",
       "      <td>0.535606</td>\n",
       "    </tr>\n",
       "  </tbody>\n",
       "</table>\n",
       "<p>46421 rows × 15 columns</p>\n",
       "</div>"
      ],
      "text/plain": [
       "         dataset_id                      time             username  checkins  \\\n",
       "231           52693 2015-01-01 05:00:00+00:00        crackerbarrel    110688   \n",
       "233           52882 2015-01-01 05:00:00+00:00         jackinthebox         3   \n",
       "236           52759 2015-01-01 05:00:00+00:00               dennys     61952   \n",
       "268           53137 2015-01-01 05:00:00+00:00       texasroadhouse         7   \n",
       "336           53551 2015-01-01 05:00:00+00:00           burgerking         0   \n",
       "...             ...                       ...                  ...       ...   \n",
       "3620760       64360 2018-07-17 04:00:00+00:00             PizzaHut         3   \n",
       "3620845       63329 2018-07-17 04:00:00+00:00            McDonalds         0   \n",
       "3620846       60854 2018-07-17 04:00:00+00:00  EddieVsPrimeSeafood     45276   \n",
       "3620946      891251 2018-07-17 04:00:00+00:00                  jet      2177   \n",
       "3621369       53551 2018-07-17 04:00:00+00:00           burgerking         0   \n",
       "\n",
       "        has_added_app  were_here_count     likes  talking_about_count  \\\n",
       "231                 f          5679526   2370971                59703   \n",
       "233                 f          1559101   1067122                27118   \n",
       "236                 f          3769077    894027                11116   \n",
       "268                 f          7525397   2674899                 6156   \n",
       "336                 f           277389   7536694               154945   \n",
       "...               ...              ...       ...                  ...   \n",
       "3620760             f          6391320  31513432                 2645   \n",
       "3620845             f         31950665  78045025                 5497   \n",
       "3620846             f           477153     74770                 1528   \n",
       "3620946             f                0    369332                 4357   \n",
       "3621369             f          2976251   8224044                14762   \n",
       "\n",
       "               facebook_id                     date_added  \\\n",
       "231        175123745870734                            NaN   \n",
       "233            46895347303                            NaN   \n",
       "236            55330643140                            NaN   \n",
       "268             8966519227                            NaN   \n",
       "336        134615383218473                            NaN   \n",
       "...                    ...                            ...   \n",
       "3620760    321935321302049  2018-07-18 05:49:36.242969+00   \n",
       "3620845  10150097174480584  2018-07-18 05:47:04.734795+00   \n",
       "3620846    120283141419641  2018-07-17 05:30:02.262788+00   \n",
       "3620946    256154354583303   2018-07-18 05:49:27.68657+00   \n",
       "3621369    134615383218473  2018-07-17 05:33:19.132185+00   \n",
       "\n",
       "                          date_updated  entity_id  cusip  isin  \\\n",
       "231      2017-02-14 02:02:47.053965+00        NaN    NaN   NaN   \n",
       "233      2017-02-14 02:49:11.420663+00        NaN    NaN   NaN   \n",
       "236      2017-02-14 02:16:38.883023+00        NaN    NaN   NaN   \n",
       "268      2017-02-14 03:46:14.151102+00        NaN    NaN   NaN   \n",
       "336      2017-02-14 07:19:04.519018+00        NaN    NaN   NaN   \n",
       "...                                ...        ...    ...   ...   \n",
       "3620760  2018-07-18 05:49:36.243012+00        NaN    NaN   NaN   \n",
       "3620845  2018-07-18 05:47:04.734838+00        NaN    NaN   NaN   \n",
       "3620846  2018-07-17 05:30:02.262833+00        NaN    NaN   NaN   \n",
       "3620946  2018-07-18 05:49:27.686613+00        NaN    NaN   NaN   \n",
       "3621369  2018-07-17 05:33:19.132206+00        NaN    NaN   NaN   \n",
       "\n",
       "         Normalised likes  \n",
       "231              0.153215  \n",
       "233              0.068032  \n",
       "236              0.056723  \n",
       "268              0.173071  \n",
       "336              0.490700  \n",
       "...                   ...  \n",
       "3620760          2.057141  \n",
       "3620845          5.097129  \n",
       "3620846          0.003200  \n",
       "3620946          0.022444  \n",
       "3621369          0.535606  \n",
       "\n",
       "[46421 rows x 15 columns]"
      ]
     },
     "execution_count": 108,
     "metadata": {},
     "output_type": "execute_result"
    }
   ],
   "source": [
    "df2"
   ]
  },
  {
   "cell_type": "markdown",
   "metadata": {},
   "source": [
    "First, the absolute **likes** gained between the oldest and latest date for each Facebook pages are calculated."
   ]
  },
  {
   "cell_type": "code",
   "execution_count": 109,
   "metadata": {},
   "outputs": [],
   "source": [
    "Group_likes=(df2.sort_values(by='time',ascending=False)).groupby(['facebook_id'])"
   ]
  },
  {
   "cell_type": "code",
   "execution_count": 110,
   "metadata": {},
   "outputs": [],
   "source": [
    "top10=(Group_likes[['likes']].first()-Group_likes[['likes']].last()).sort_values(by='likes',ascending=False).head(10)"
   ]
  },
  {
   "cell_type": "code",
   "execution_count": 111,
   "metadata": {},
   "outputs": [],
   "source": [
    "pagename=[]\n",
    "for i in (top10.index):\n",
    "    pagename.append((Group_likes.get_group(i)['username'].head(1)).values[0])\n",
    "    "
   ]
  },
  {
   "cell_type": "code",
   "execution_count": 112,
   "metadata": {},
   "outputs": [],
   "source": [
    "pagename=['McD',\n",
    " 'McDUS',\n",
    " 'KFC',\n",
    " 'Dom',\n",
    " 'PHut',\n",
    " 'PJ',\n",
    " 'wendys',\n",
    " 'Chi',\n",
    " 'Starb',\n",
    " 'BK']"
   ]
  },
  {
   "cell_type": "code",
   "execution_count": 113,
   "metadata": {},
   "outputs": [],
   "source": [
    "top10.insert(0,'FB name',pagename)"
   ]
  },
  {
   "cell_type": "code",
   "execution_count": 114,
   "metadata": {},
   "outputs": [
    {
     "data": {
      "text/html": [
       "<div>\n",
       "<style scoped>\n",
       "    .dataframe tbody tr th:only-of-type {\n",
       "        vertical-align: middle;\n",
       "    }\n",
       "\n",
       "    .dataframe tbody tr th {\n",
       "        vertical-align: top;\n",
       "    }\n",
       "\n",
       "    .dataframe thead th {\n",
       "        text-align: right;\n",
       "    }\n",
       "</style>\n",
       "<table border=\"1\" class=\"dataframe\">\n",
       "  <thead>\n",
       "    <tr style=\"text-align: right;\">\n",
       "      <th></th>\n",
       "      <th>FB name</th>\n",
       "      <th>likes</th>\n",
       "    </tr>\n",
       "    <tr>\n",
       "      <th>facebook_id</th>\n",
       "      <th></th>\n",
       "      <th></th>\n",
       "    </tr>\n",
       "  </thead>\n",
       "  <tbody>\n",
       "    <tr>\n",
       "      <th>10150097174480584</th>\n",
       "      <td>McD</td>\n",
       "      <td>17256164</td>\n",
       "    </tr>\n",
       "    <tr>\n",
       "      <th>50245567013</th>\n",
       "      <td>McDUS</td>\n",
       "      <td>17226714</td>\n",
       "    </tr>\n",
       "    <tr>\n",
       "      <th>7144906559</th>\n",
       "      <td>KFC</td>\n",
       "      <td>12196624</td>\n",
       "    </tr>\n",
       "    <tr>\n",
       "      <th>6657899956</th>\n",
       "      <td>Dom</td>\n",
       "      <td>9691308</td>\n",
       "    </tr>\n",
       "    <tr>\n",
       "      <th>321935321302049</th>\n",
       "      <td>PHut</td>\n",
       "      <td>4652242</td>\n",
       "    </tr>\n",
       "    <tr>\n",
       "      <th>34703237638</th>\n",
       "      <td>PJ</td>\n",
       "      <td>3002450</td>\n",
       "    </tr>\n",
       "    <tr>\n",
       "      <th>113385204488</th>\n",
       "      <td>wendys</td>\n",
       "      <td>789680</td>\n",
       "    </tr>\n",
       "    <tr>\n",
       "      <th>124149619252</th>\n",
       "      <td>Chi</td>\n",
       "      <td>774522</td>\n",
       "    </tr>\n",
       "    <tr>\n",
       "      <th>22092443056</th>\n",
       "      <td>Starb</td>\n",
       "      <td>746186</td>\n",
       "    </tr>\n",
       "    <tr>\n",
       "      <th>134615383218473</th>\n",
       "      <td>BK</td>\n",
       "      <td>687350</td>\n",
       "    </tr>\n",
       "  </tbody>\n",
       "</table>\n",
       "</div>"
      ],
      "text/plain": [
       "                  FB name     likes\n",
       "facebook_id                        \n",
       "10150097174480584     McD  17256164\n",
       "50245567013         McDUS  17226714\n",
       "7144906559            KFC  12196624\n",
       "6657899956            Dom   9691308\n",
       "321935321302049      PHut   4652242\n",
       "34703237638            PJ   3002450\n",
       "113385204488       wendys    789680\n",
       "124149619252          Chi    774522\n",
       "22092443056         Starb    746186\n",
       "134615383218473        BK    687350"
      ]
     },
     "execution_count": 114,
     "metadata": {},
     "output_type": "execute_result"
    }
   ],
   "source": [
    "top10"
   ]
  },
  {
   "cell_type": "code",
   "execution_count": 115,
   "metadata": {},
   "outputs": [
    {
     "data": {
      "image/png": "[encoded data removed]",
      "text/plain": [
       "<Figure size 432x288 with 1 Axes>"
      ]
     },
     "metadata": {},
     "output_type": "display_data"
    }
   ],
   "source": [
    "import matplotlib.pyplot as plt\n",
    "%matplotlib inline\n",
    "\n",
    "plt.style.use('ggplot')\n",
    "\n",
    "x = top10['FB name']\n",
    "likes = top10['likes']\n",
    "\n",
    "x_pos = [i for i, _ in enumerate(x)]\n",
    "\n",
    "plt.bar(x_pos, likes, color='green')\n",
    "plt.xlabel(\"Food & beverage Facebook page\")\n",
    "plt.ylabel(\"Facebook likes gained\")\n",
    "plt.title(\"Figure 2: Top 10 Facebook likes gained\")\n",
    "\n",
    "plt.xticks(x_pos, x)\n",
    "\n",
    "plt.show()"
   ]
  },
  {
   "cell_type": "markdown",
   "metadata": {},
   "source": [
    "Note: Dom=Dominos, PHut=Pizza Hut, PJ=PapaJohnUS, Chi=Chipotle, Stab=Starbucks, BK=Burger King"
   ]
  },
  {
   "cell_type": "markdown",
   "metadata": {},
   "source": [
    "The absolute **likes** gain does not take into account the existing size of the page as well as the time taken to gain the likes. In order to get a more comparable data, the **likes values are normalised** and then **divided by the time frame** taken to gain those number of likes.    "
   ]
  },
  {
   "cell_type": "code",
   "execution_count": 116,
   "metadata": {},
   "outputs": [],
   "source": [
    "diff_likes_norm=(Group_likes[['Normalised likes']].first()-Group_likes[['Normalised likes']].last())"
   ]
  },
  {
   "cell_type": "code",
   "execution_count": 117,
   "metadata": {},
   "outputs": [],
   "source": [
    "diff_time_norm=(Group_likes[['time']].first()-Group_likes[['time']].last()).astype('timedelta64[D]')"
   ]
  },
  {
   "cell_type": "code",
   "execution_count": 118,
   "metadata": {},
   "outputs": [],
   "source": [
    "x=diff_likes_norm/diff_time_norm.values"
   ]
  },
  {
   "cell_type": "code",
   "execution_count": 119,
   "metadata": {},
   "outputs": [],
   "source": [
    "top10_norm=x.sort_values(by='Normalised likes',ascending=False)[0:10]\n"
   ]
  },
  {
   "cell_type": "code",
   "execution_count": 120,
   "metadata": {},
   "outputs": [],
   "source": [
    "pagename_norm1=[]\n",
    "for i in (top10_norm.index):\n",
    "    pagename_norm1.append((Group_likes.get_group(i)['username'].head(1)).values[0])"
   ]
  },
  {
   "cell_type": "code",
   "execution_count": 121,
   "metadata": {},
   "outputs": [],
   "source": [
    "pagename_norm=['McD',\n",
    " 'McDUS',\n",
    " 'KFC',\n",
    " 'Dom',\n",
    " 'PHut',\n",
    " 'PJ',\n",
    " 'Starb',\n",
    " 'Wen',\n",
    " 'Chi',\n",
    " 'BK']"
   ]
  },
  {
   "cell_type": "code",
   "execution_count": 122,
   "metadata": {},
   "outputs": [],
   "source": [
    "top10_norm.insert(0,'FB name',pagename_norm)\n"
   ]
  },
  {
   "cell_type": "code",
   "execution_count": 123,
   "metadata": {},
   "outputs": [
    {
     "data": {
      "image/png": "[encoded data removed]",
      "text/plain": [
       "<Figure size 432x288 with 1 Axes>"
      ]
     },
     "metadata": {},
     "output_type": "display_data"
    }
   ],
   "source": [
    "import matplotlib.pyplot as plt\n",
    "%matplotlib inline\n",
    "\n",
    "plt.style.use('ggplot')\n",
    "\n",
    "x = top10_norm['FB name']\n",
    "likes = top10_norm['Normalised likes']\n",
    "\n",
    "x_pos = [i for i, _ in enumerate(x)]\n",
    "\n",
    "plt.bar(x_pos, likes, color='blue')\n",
    "plt.xlabel(\"Food & beverage Facebook page\")\n",
    "plt.ylabel(\"Facebook normalised likes gain rate\")\n",
    "plt.title(\"Figure 3: Top 10 Faebook normalised likes gain rate\")\n",
    "\n",
    "plt.xticks(x_pos, x)\n",
    "\n",
    "plt.show()"
   ]
  },
  {
   "cell_type": "markdown",
   "metadata": {},
   "source": [
    "Note: Dom=Dominos, PHut=Pizza Hut, PJ=PapaJohnUS, Starb=Starbucks, Wen=Wendys, Chi=Chipotle,  BK=Burger King"
   ]
  },
  {
   "cell_type": "code",
   "execution_count": 124,
   "metadata": {},
   "outputs": [
    {
     "data": {
      "text/html": [
       "<div>\n",
       "<style scoped>\n",
       "    .dataframe tbody tr th:only-of-type {\n",
       "        vertical-align: middle;\n",
       "    }\n",
       "\n",
       "    .dataframe tbody tr th {\n",
       "        vertical-align: top;\n",
       "    }\n",
       "\n",
       "    .dataframe thead th {\n",
       "        text-align: right;\n",
       "    }\n",
       "</style>\n",
       "<table border=\"1\" class=\"dataframe\">\n",
       "  <thead>\n",
       "    <tr style=\"text-align: right;\">\n",
       "      <th></th>\n",
       "      <th>FB name</th>\n",
       "      <th>Normalised likes</th>\n",
       "    </tr>\n",
       "    <tr>\n",
       "      <th>facebook_id</th>\n",
       "      <th></th>\n",
       "      <th></th>\n",
       "    </tr>\n",
       "  </thead>\n",
       "  <tbody>\n",
       "    <tr>\n",
       "      <th>10150097174480584</th>\n",
       "      <td>McD</td>\n",
       "      <td>0.001173</td>\n",
       "    </tr>\n",
       "    <tr>\n",
       "      <th>50245567013</th>\n",
       "      <td>McDUS</td>\n",
       "      <td>0.001172</td>\n",
       "    </tr>\n",
       "    <tr>\n",
       "      <th>7144906559</th>\n",
       "      <td>KFC</td>\n",
       "      <td>0.000833</td>\n",
       "    </tr>\n",
       "    <tr>\n",
       "      <th>6657899956</th>\n",
       "      <td>Dom</td>\n",
       "      <td>0.000578</td>\n",
       "    </tr>\n",
       "    <tr>\n",
       "      <th>321935321302049</th>\n",
       "      <td>PHut</td>\n",
       "      <td>0.000317</td>\n",
       "    </tr>\n",
       "    <tr>\n",
       "      <th>34703237638</th>\n",
       "      <td>PJ</td>\n",
       "      <td>0.000152</td>\n",
       "    </tr>\n",
       "    <tr>\n",
       "      <th>22092443056</th>\n",
       "      <td>Starb</td>\n",
       "      <td>0.000073</td>\n",
       "    </tr>\n",
       "    <tr>\n",
       "      <th>113385204488</th>\n",
       "      <td>Wen</td>\n",
       "      <td>0.000054</td>\n",
       "    </tr>\n",
       "    <tr>\n",
       "      <th>124149619252</th>\n",
       "      <td>Chi</td>\n",
       "      <td>0.000046</td>\n",
       "    </tr>\n",
       "    <tr>\n",
       "      <th>134615383218473</th>\n",
       "      <td>BK</td>\n",
       "      <td>0.000035</td>\n",
       "    </tr>\n",
       "  </tbody>\n",
       "</table>\n",
       "</div>"
      ],
      "text/plain": [
       "                  FB name  Normalised likes\n",
       "facebook_id                                \n",
       "10150097174480584     McD          0.001173\n",
       "50245567013         McDUS          0.001172\n",
       "7144906559            KFC          0.000833\n",
       "6657899956            Dom          0.000578\n",
       "321935321302049      PHut          0.000317\n",
       "34703237638            PJ          0.000152\n",
       "22092443056         Starb          0.000073\n",
       "113385204488          Wen          0.000054\n",
       "124149619252          Chi          0.000046\n",
       "134615383218473        BK          0.000035"
      ]
     },
     "execution_count": 124,
     "metadata": {},
     "output_type": "execute_result"
    }
   ],
   "source": [
    "top10_norm"
   ]
  },
  {
   "cell_type": "markdown",
   "metadata": {},
   "source": [
    "Analysing Figure 2 and 3, **ALL** Facebook pages in top 10 absolute likes gain also made to the top 10 normalised likes rate. \n",
    "\n",
    "The only different between these two figures is the **order** of the Facebook pages **Wendys, Chipotle and Strabucks**. In **Figure 2** (absolute likes gain) the order from 7-9 are as follows **Wendys, Chipotle then Strabucks**. While in **Figure 3** (normalised likes rate) the order from 7-9 are as follows **Strabucks, Wendys then Chipotle**.\n",
    "\n",
    "Based on these observation, it can be concluded that **Strabucks** is likely to **overtake Wendys then Chipotle** in absolute gain chart(Figure 2) in the near future.\n",
    " "
   ]
  },
  {
   "cell_type": "markdown",
   "metadata": {},
   "source": [
    "Next, the top 5 normalised likes rate Facebook pages are plotted against the time scale. Note that, the lastest date of the month and the total like at that time are used to develop the graph."
   ]
  },
  {
   "cell_type": "code",
   "execution_count": 127,
   "metadata": {},
   "outputs": [],
   "source": [
    "year=pd.DatetimeIndex(df2['time']).year\n",
    "month=pd.DatetimeIndex(df2['time']).month\n",
    "df3=df2\n",
    "df3.loc[:,('time')]=df3['time'].dt.tz_localize(None)\n",
    "\n"
   ]
  },
  {
   "cell_type": "code",
   "execution_count": 128,
   "metadata": {},
   "outputs": [],
   "source": [
    "df3.loc[:,('year')]=year\n",
    "df3.loc[:,('month')]=month\n",
    "Group_plot=(df3.sort_values(by='time',ascending=False)).groupby(['facebook_id'])"
   ]
  },
  {
   "cell_type": "code",
   "execution_count": 129,
   "metadata": {},
   "outputs": [],
   "source": [
    "page_rate=top10_norm.index[0:5]"
   ]
  },
  {
   "cell_type": "code",
   "execution_count": 246,
   "metadata": {},
   "outputs": [],
   "source": [
    "all_time=[]\n",
    "all_likes=[]\n",
    "all_checkins=[]\n",
    "for i in page_rate:\n",
    "    xr=Group_plot.get_group(i).groupby(['year','month'])\n",
    "    all_time.append(xr.head(1)['time'])\n",
    "    all_likes.append(xr.head(1)['likes'])\n",
    "    all_checkins.append(xr.head(1)['checkins'])\n"
   ]
  },
  {
   "cell_type": "code",
   "execution_count": 131,
   "metadata": {},
   "outputs": [],
   "source": [
    "x=all_time\n",
    "min_date=[]\n",
    "max_date=[]\n",
    "for i in range(5):\n",
    "    min_date.append(min(x[i]))\n",
    "    max_date.append(max(x[i]))\n",
    "    \n",
    "Min_final=min(min_date)\n",
    "Max_final=max(max_date)\n"
   ]
  },
  {
   "cell_type": "code",
   "execution_count": 132,
   "metadata": {},
   "outputs": [
    {
     "data": {
      "text/plain": [
       "['McDonalds',\n",
       " 'McDonaldsUS',\n",
       " 'KFC',\n",
       " 'Dominos',\n",
       " 'PizzaHut',\n",
       " 'papajohnsus',\n",
       " 'Starbucks',\n",
       " 'wendys',\n",
       " 'chipotle',\n",
       " 'burgerking']"
      ]
     },
     "execution_count": 132,
     "metadata": {},
     "output_type": "execute_result"
    }
   ],
   "source": [
    "pagename_norm1"
   ]
  },
  {
   "cell_type": "code",
   "execution_count": 272,
   "metadata": {},
   "outputs": [
    {
     "data": {
      "image/png": "[encoded data removed]",
      "text/plain": [
       "<Figure size 432x288 with 1 Axes>"
      ]
     },
     "metadata": {},
     "output_type": "display_data"
    }
   ],
   "source": [
    "import numpy as np\n",
    "import matplotlib.pyplot as plt\n",
    "import matplotlib.dates as mdates\n",
    "from pandas.plotting import register_matplotlib_converters\n",
    "register_matplotlib_converters()\n",
    "\n",
    "years = mdates.YearLocator()   # every year\n",
    "months = mdates.MonthLocator()  # every month\n",
    "days = mdates.DayLocator()  # every month\n",
    "years_fmt = mdates.DateFormatter('%Y')\n",
    "\n",
    "fig, ax = plt.subplots()\n",
    "for i in range(len(all_time)):\n",
    "    ax.plot(all_time[i],all_likes[i],label=pagename_norm1[i])\n",
    "\n",
    "\n",
    "# format the ticks\n",
    "ax.xaxis.set_major_locator(years)\n",
    "ax.xaxis.set_major_formatter(years_fmt)\n",
    "ax.xaxis.set_minor_locator(months)\n",
    "ax.legend( bbox_to_anchor=(1, 0.5))\n",
    "# round to nearest years.\n",
    "datemin = np.datetime64(Min_final, 'Y')\n",
    "datemax = np.datetime64(Max_final, 'Y') + np.timedelta64(1, 'Y')\n",
    "ax.set_xlim(datemin, datemax)\n",
    "\n",
    "# format the coords message box\n",
    "plt.xlabel(\"Year\")\n",
    "plt.ylabel(\"Facebook likes\")\n",
    "plt.title(\"Fig. 4: Top 5 FB page likes gain vs years\") \n",
    "ax.grid(True)\n",
    "\n",
    "\n",
    "# rotates and right aligns the x labels, and moves the bottom of the\n",
    "# axes up to make room for them\n",
    "fig.autofmt_xdate()\n",
    "\n",
    "plt.show()"
   ]
  },
  {
   "cell_type": "markdown",
   "metadata": {},
   "source": [
    "Note: McDonalds and McDonaldsUS have almost identical growth and FB likes which made their graphs to overlap. "
   ]
  },
  {
   "cell_type": "markdown",
   "metadata": {},
   "source": [
    "From Figure 4, it can be seen that the Facebook page **McDUS** (purple) and **McD** (red is overlapped) have the **steepest curve**, followed by **KFC** (light blue), **Dominos** (green), and then **PizzaHut** (yellow)."
   ]
  },
  {
   "cell_type": "markdown",
   "metadata": {},
   "source": [
    "## 3.0 Examination of relationship between Facebook likes and Facebook talking about count"
   ]
  },
  {
   "cell_type": "markdown",
   "metadata": {},
   "source": [
    "Next the top 5 Facebook pages that showed the most likes gained overtime are examined against the talking about count value. The aim here is to find whether there is a corelation between number or likes gained each month vs the talking about count. The number of likes gained each month determined by subtracting the newer month against the latest month likes count. While the average value of each month is used for talking about count value. Using these two values the corellation value is determined."
   ]
  },
  {
   "cell_type": "code",
   "execution_count": 136,
   "metadata": {},
   "outputs": [],
   "source": [
    "fnb_all_time=[]\n",
    "fnb_all_likes=[]\n",
    "for i in fnb_id:\n",
    "    xr=Group_plot.get_group(i).groupby(['year','month'])\n",
    "    fnb_all_time.append(xr.head(1)['time'])\n",
    "    fnb_all_likes.append(xr.head(1)['likes'])"
   ]
  },
  {
   "cell_type": "code",
   "execution_count": 213,
   "metadata": {},
   "outputs": [],
   "source": [
    "fnb_all_thumb=[]\n",
    "fnb_all_talk=[]\n",
    "fnb_all_corrcoef=[]\n",
    "for i in range(len(fnb_id)):\n",
    "    fnb_likes_gain=[]\n",
    "    for j in range(len(fnb_all_likes[i])-1):\n",
    "        fnb_likes_gain.append(fnb_all_likes[i].values[j]-fnb_all_likes[i].values[j+1])\n",
    "    talk=(Group_plot.get_group(fnb_id[i]).groupby(['year','month'])['talking_about_count'].agg('mean')).values[::-1]\n",
    "    talk=talk[0:-1]\n",
    "    fnb_all_thumb.append(fnb_likes_gain)\n",
    "    fnb_all_talk.append(talk)\n",
    "    arr = np.array(fnb_likes_gain) \n",
    "    fnb_all_corrcoef.append(np.corrcoef(talk,arr)[0][1])\n"
   ]
  },
  {
   "cell_type": "code",
   "execution_count": 214,
   "metadata": {},
   "outputs": [],
   "source": [
    "d = {'FB name':pd.Series(fnb),'facebook_id':pd.Series(fnb_id),'Correlation':pd.Series(fnb_all_corrcoef)}"
   ]
  },
  {
   "cell_type": "code",
   "execution_count": 215,
   "metadata": {},
   "outputs": [
    {
     "data": {
      "text/html": [
       "<div>\n",
       "<style scoped>\n",
       "    .dataframe tbody tr th:only-of-type {\n",
       "        vertical-align: middle;\n",
       "    }\n",
       "\n",
       "    .dataframe tbody tr th {\n",
       "        vertical-align: top;\n",
       "    }\n",
       "\n",
       "    .dataframe thead th {\n",
       "        text-align: right;\n",
       "    }\n",
       "</style>\n",
       "<table border=\"1\" class=\"dataframe\">\n",
       "  <thead>\n",
       "    <tr style=\"text-align: right;\">\n",
       "      <th></th>\n",
       "      <th>FB name</th>\n",
       "      <th>Correlation</th>\n",
       "    </tr>\n",
       "    <tr>\n",
       "      <th>facebook_id</th>\n",
       "      <th></th>\n",
       "      <th></th>\n",
       "    </tr>\n",
       "  </thead>\n",
       "  <tbody>\n",
       "    <tr>\n",
       "      <th>80922110589</th>\n",
       "      <td>Maggianos</td>\n",
       "      <td>0.869549</td>\n",
       "    </tr>\n",
       "    <tr>\n",
       "      <th>233921809956670</th>\n",
       "      <td>PolloTropical</td>\n",
       "      <td>0.867789</td>\n",
       "    </tr>\n",
       "    <tr>\n",
       "      <th>56090499562</th>\n",
       "      <td>fuddruckers</td>\n",
       "      <td>0.861672</td>\n",
       "    </tr>\n",
       "    <tr>\n",
       "      <th>86744073413</th>\n",
       "      <td>seasons52</td>\n",
       "      <td>0.856273</td>\n",
       "    </tr>\n",
       "    <tr>\n",
       "      <th>80555139083</th>\n",
       "      <td>flemings</td>\n",
       "      <td>0.853067</td>\n",
       "    </tr>\n",
       "    <tr>\n",
       "      <th>94797847988</th>\n",
       "      <td>longhornsteakhouse</td>\n",
       "      <td>0.843345</td>\n",
       "    </tr>\n",
       "    <tr>\n",
       "      <th>69846573925</th>\n",
       "      <td>Lubys</td>\n",
       "      <td>0.840993</td>\n",
       "    </tr>\n",
       "    <tr>\n",
       "      <th>47575451523</th>\n",
       "      <td>bonefishgrill</td>\n",
       "      <td>0.810039</td>\n",
       "    </tr>\n",
       "    <tr>\n",
       "      <th>145230931776</th>\n",
       "      <td>hooters</td>\n",
       "      <td>0.797849</td>\n",
       "    </tr>\n",
       "    <tr>\n",
       "      <th>84579814673</th>\n",
       "      <td>Wingstop</td>\n",
       "      <td>0.786187</td>\n",
       "    </tr>\n",
       "  </tbody>\n",
       "</table>\n",
       "</div>"
      ],
      "text/plain": [
       "                            FB name  Correlation\n",
       "facebook_id                                     \n",
       "80922110589               Maggianos     0.869549\n",
       "233921809956670       PolloTropical     0.867789\n",
       "56090499562             fuddruckers     0.861672\n",
       "86744073413               seasons52     0.856273\n",
       "80555139083                flemings     0.853067\n",
       "94797847988      longhornsteakhouse     0.843345\n",
       "69846573925                   Lubys     0.840993\n",
       "47575451523           bonefishgrill     0.810039\n",
       "145230931776                hooters     0.797849\n",
       "84579814673                Wingstop     0.786187"
      ]
     },
     "execution_count": 215,
     "metadata": {},
     "output_type": "execute_result"
    }
   ],
   "source": [
    "fnb_coef=pd.DataFrame(d)\n",
    "fnb_coef.set_index('facebook_id').sort_values(by='Correlation',ascending=False)[0:10]"
   ]
  },
  {
   "cell_type": "code",
   "execution_count": 217,
   "metadata": {},
   "outputs": [
    {
     "data": {
      "text/plain": [
       "median    0.556221\n",
       "mean      0.535116\n",
       "std       0.255601\n",
       "Name: Correlation, dtype: float64"
      ]
     },
     "execution_count": 217,
     "metadata": {},
     "output_type": "execute_result"
    }
   ],
   "source": [
    "fnb_coef['Correlation'].abs().agg(['median','mean','std'])"
   ]
  },
  {
   "cell_type": "code",
   "execution_count": 274,
   "metadata": {},
   "outputs": [],
   "source": [
    "all_thumb=[]\n",
    "all_talk=[]\n",
    "all_corrcoef=[]\n",
    "for i in range(len(top10_norm[0:5])):\n",
    "    likes_gain=[]\n",
    "    for j in range(len(all_likes[i])-1):\n",
    "        likes_gain.append(all_likes[i].values[j]-all_likes[i].values[j+1])\n",
    "    talk=(Group_plot.get_group(top10_norm.index[i]).groupby(['year','month'])['talking_about_count'].agg('mean')).values[::-1]\n",
    "    talk=talk[0:-1]\n",
    "    all_thumb.append(likes_gain)\n",
    "    all_talk.append(talk)\n",
    "    arr = np.array(likes_gain) \n",
    "    all_corrcoef.append(np.corrcoef(talk,arr)[0][1])\n"
   ]
  },
  {
   "cell_type": "code",
   "execution_count": 535,
   "metadata": {},
   "outputs": [
    {
     "data": {
      "text/html": [
       "<div>\n",
       "<style scoped>\n",
       "    .dataframe tbody tr th:only-of-type {\n",
       "        vertical-align: middle;\n",
       "    }\n",
       "\n",
       "    .dataframe tbody tr th {\n",
       "        vertical-align: top;\n",
       "    }\n",
       "\n",
       "    .dataframe thead th {\n",
       "        text-align: right;\n",
       "    }\n",
       "</style>\n",
       "<table border=\"1\" class=\"dataframe\">\n",
       "  <thead>\n",
       "    <tr style=\"text-align: right;\">\n",
       "      <th></th>\n",
       "      <th>FB name</th>\n",
       "      <th>Correlation</th>\n",
       "    </tr>\n",
       "    <tr>\n",
       "      <th>facebook_id</th>\n",
       "      <th></th>\n",
       "      <th></th>\n",
       "    </tr>\n",
       "  </thead>\n",
       "  <tbody>\n",
       "    <tr>\n",
       "      <th>10150097174480584</th>\n",
       "      <td>McD</td>\n",
       "      <td>0.536754</td>\n",
       "    </tr>\n",
       "    <tr>\n",
       "      <th>50245567013</th>\n",
       "      <td>McDUS</td>\n",
       "      <td>0.107279</td>\n",
       "    </tr>\n",
       "    <tr>\n",
       "      <th>7144906559</th>\n",
       "      <td>KFC</td>\n",
       "      <td>-0.318145</td>\n",
       "    </tr>\n",
       "    <tr>\n",
       "      <th>6657899956</th>\n",
       "      <td>Dom</td>\n",
       "      <td>0.304336</td>\n",
       "    </tr>\n",
       "    <tr>\n",
       "      <th>321935321302049</th>\n",
       "      <td>PHut</td>\n",
       "      <td>0.487411</td>\n",
       "    </tr>\n",
       "  </tbody>\n",
       "</table>\n",
       "</div>"
      ],
      "text/plain": [
       "                  FB name  Correlation\n",
       "facebook_id                           \n",
       "10150097174480584     McD     0.536754\n",
       "50245567013         McDUS     0.107279\n",
       "7144906559            KFC    -0.318145\n",
       "6657899956            Dom     0.304336\n",
       "321935321302049      PHut     0.487411"
      ]
     },
     "execution_count": 535,
     "metadata": {},
     "output_type": "execute_result"
    }
   ],
   "source": [
    "Coerf=top10_norm[0:5]\n",
    "Coerf=Coerf.drop(['Normalised likes'],axis=1)\n",
    "se = pd.Series(all_corrcoef)\n",
    "Coerf['Correlation']=se.values\n",
    "Coerf"
   ]
  },
  {
   "cell_type": "markdown",
   "metadata": {},
   "source": [
    "McD has the higest correlation between likes and talking about count among the top 5 normalised likes growth Facebook pages. While, KFC has a negative relationship between likes and talking about count, a strange observation that requires further investigation."
   ]
  },
  {
   "cell_type": "code",
   "execution_count": 280,
   "metadata": {},
   "outputs": [
    {
     "data": {
      "image/png": "[encoded data removed]",
      "text/plain": [
       "<Figure size 432x288 with 2 Axes>"
      ]
     },
     "metadata": {},
     "output_type": "display_data"
    }
   ],
   "source": [
    "years = mdates.YearLocator()   # every year\n",
    "months = mdates.MonthLocator()  # every month\n",
    "days = mdates.DayLocator()  # every month\n",
    "years_fmt = mdates.DateFormatter('%Y')\n",
    "\n",
    "fig, ax = plt.subplots()\n",
    "\n",
    "ax.plot(all_time[0].values[0:-1],all_thumb[0],label='monthly likes gained')\n",
    "ax2=ax.twinx()\n",
    "ax2.plot(all_time[0].values[0:-1],all_talk[0],\"b-\",label='average talking about count')\n",
    "\n",
    "\n",
    "# format the ticks\n",
    "ax.xaxis.set_major_locator(years)\n",
    "ax.xaxis.set_major_formatter(years_fmt)\n",
    "ax.xaxis.set_minor_locator(months)\n",
    "lines=[ax,ax2]\n",
    "ax.ticklabel_format(axis=\"y\", style=\"sci\", scilimits=(0,0))\n",
    "ax2.ticklabel_format(axis=\"y\", style=\"sci\", scilimits=(0,0))\n",
    "\n",
    "red_line = mlines.Line2D([], [],color='red', label='Monthly FB likes gained')\n",
    "blue_line = mlines.Line2D([], [],color='blue', label='Monthly avg. talking about')\n",
    "plt.legend(handles=[red_line,blue_line],loc='upper right',fontsize=8)\n",
    "\n",
    "\n",
    "# round to nearest years.\n",
    "Min_final=min(all_time[0].values[0:-1])\n",
    "Max_final=max(all_time[0].values[0:-1])\n",
    "datemin = np.datetime64(Min_final, 'Y')\n",
    "datemax = np.datetime64(Max_final, 'Y') + np.timedelta64(1, 'Y')\n",
    "ax.set_xlim(datemin, datemax)\n",
    "\n",
    "\n",
    "ax.set_xlabel(\"Year\")\n",
    "ax2.set_ylabel(\"Avg.ntalking about count\",color=\"blue\",fontsize=12)\n",
    "ax.set_ylabel(\"Facebook likes gained\",color=\"red\",fontsize=12)\n",
    "\n",
    "plt.title(\"Fig. 5: McD (Coerf=0.54)\") \n",
    "ax.grid(True)\n",
    "ax2.grid(False)\n",
    "\n",
    "\n",
    "# rotates and right aligns the x labels, and moves the bottom of the\n",
    "# axes up to make room for them\n",
    "fig.autofmt_xdate()\n",
    "\n",
    "plt.show()"
   ]
  },
  {
   "cell_type": "code",
   "execution_count": 277,
   "metadata": {},
   "outputs": [
    {
     "data": {
      "image/png": "[encoded data removed]",
      "text/plain": [
       "<Figure size 432x288 with 2 Axes>"
      ]
     },
     "metadata": {},
     "output_type": "display_data"
    }
   ],
   "source": [
    "import matplotlib.lines as mlines\n",
    "years = mdates.YearLocator()   # every year\n",
    "months = mdates.MonthLocator()  # every month\n",
    "days = mdates.DayLocator()  # every month\n",
    "years_fmt = mdates.DateFormatter('%Y')\n",
    "\n",
    "\n",
    "\n",
    "fig, ax = plt.subplots()\n",
    "\n",
    "ax.plot(all_time[2].values[0:-1],all_thumb[2],label='monthly likes gained')\n",
    "ax2=ax.twinx()\n",
    "ax2.plot(all_time[2].values[0:-1],all_talk[2],\"b-\",label='average talking about count')\n",
    "\n",
    "\n",
    "\n",
    "# format the ticks\n",
    "ax.xaxis.set_major_locator(years)\n",
    "ax.xaxis.set_major_formatter(years_fmt)\n",
    "ax.xaxis.set_minor_locator(months)\n",
    "lines=[ax,ax2]\n",
    "ax.ticklabel_format(axis=\"y\", style=\"sci\", scilimits=(0,0))\n",
    "ax2.ticklabel_format(axis=\"y\", style=\"sci\", scilimits=(0,0))\n",
    "\n",
    "\n",
    "\n",
    "red_line = mlines.Line2D([], [],color='red', label='Monthly FB likes gained')\n",
    "blue_line = mlines.Line2D([], [],color='blue', label='Monthly avg. talking about')\n",
    "plt.legend(handles=[red_line,blue_line],fontsize=10)\n",
    "\n",
    "\n",
    "\n",
    "\n",
    "# round to nearest years.\n",
    "Min_final=min(all_time[2].values[0:-1])\n",
    "Max_final=max(all_time[2].values[0:-1])\n",
    "datemin = np.datetime64(Min_final, 'Y')\n",
    "datemax = np.datetime64(Max_final, 'Y') + np.timedelta64(1, 'Y')\n",
    "ax.set_xlim(datemin, datemax)\n",
    "\n",
    "# format the coords message box\n",
    "ax.set_xlabel(\"Year\")\n",
    "ax2.set_ylabel(\"Avg. talking about count\",color=\"blue\",fontsize=12)\n",
    "ax.set_ylabel(\"Facebook likes gained\",color=\"red\",fontsize=12)\n",
    "\n",
    "plt.title(\"Fig. 6: KFC (Coerf=-0.32)\") \n",
    "ax.grid(True)\n",
    "ax2.grid(False)\n",
    "\n",
    "\n",
    "\n",
    "\n",
    "# rotates and right aligns the x labels, and moves the bottom of the\n",
    "# axes up to make room for them\n",
    "fig.autofmt_xdate()\n",
    "\n",
    "plt.show()"
   ]
  },
  {
   "cell_type": "code",
   "execution_count": 190,
   "metadata": {},
   "outputs": [],
   "source": [
    "fnb_checkins_thumb=[]\n",
    "fnb_checkins_talk=[]\n",
    "fnb_checkins_corrcoef=[]\n",
    "for i in range(len(fnb_id)):\n",
    "    \n",
    "    talk=(Group_plot.get_group(fnb_id[i]).groupby(['year','month'])['checkins'].agg('mean')).values[::-1]\n",
    " \n",
    "    arr = (Group_plot.get_group(fnb_id[i]).groupby(['year','month'])['likes'].head(1))\n",
    "    fnb_checkins_corrcoef.append(np.corrcoef(talk,arr)[0][1])\n"
   ]
  },
  {
   "cell_type": "code",
   "execution_count": 192,
   "metadata": {},
   "outputs": [],
   "source": [
    "d2 = {'FB name':pd.Series(fnb),'facebook_id':pd.Series(fnb_id),'Correlation':pd.Series(fnb_checkins_corrcoef)}"
   ]
  },
  {
   "cell_type": "code",
   "execution_count": 226,
   "metadata": {},
   "outputs": [
    {
     "data": {
      "text/html": [
       "<div>\n",
       "<style scoped>\n",
       "    .dataframe tbody tr th:only-of-type {\n",
       "        vertical-align: middle;\n",
       "    }\n",
       "\n",
       "    .dataframe tbody tr th {\n",
       "        vertical-align: top;\n",
       "    }\n",
       "\n",
       "    .dataframe thead th {\n",
       "        text-align: right;\n",
       "    }\n",
       "</style>\n",
       "<table border=\"1\" class=\"dataframe\">\n",
       "  <thead>\n",
       "    <tr style=\"text-align: right;\">\n",
       "      <th></th>\n",
       "      <th>FB name</th>\n",
       "      <th>Correlation</th>\n",
       "    </tr>\n",
       "    <tr>\n",
       "      <th>facebook_id</th>\n",
       "      <th></th>\n",
       "      <th></th>\n",
       "    </tr>\n",
       "  </thead>\n",
       "  <tbody>\n",
       "    <tr>\n",
       "      <th>256154354583303</th>\n",
       "      <td>jet</td>\n",
       "      <td>0.993227</td>\n",
       "    </tr>\n",
       "    <tr>\n",
       "      <th>124653650181</th>\n",
       "      <td>shakeshack</td>\n",
       "      <td>0.979467</td>\n",
       "    </tr>\n",
       "    <tr>\n",
       "      <th>113385204488</th>\n",
       "      <td>wendys</td>\n",
       "      <td>0.969500</td>\n",
       "    </tr>\n",
       "    <tr>\n",
       "      <th>71011774235</th>\n",
       "      <td>ZoesKitchen</td>\n",
       "      <td>0.959700</td>\n",
       "    </tr>\n",
       "    <tr>\n",
       "      <th>46895347303</th>\n",
       "      <td>jackinthebox</td>\n",
       "      <td>0.950369</td>\n",
       "    </tr>\n",
       "    <tr>\n",
       "      <th>284314854066</th>\n",
       "      <td>papamurphyspizza</td>\n",
       "      <td>0.940280</td>\n",
       "    </tr>\n",
       "    <tr>\n",
       "      <th>175123745870734</th>\n",
       "      <td>crackerbarrel</td>\n",
       "      <td>0.931204</td>\n",
       "    </tr>\n",
       "    <tr>\n",
       "      <th>321935321302049</th>\n",
       "      <td>PizzaHut</td>\n",
       "      <td>0.891103</td>\n",
       "    </tr>\n",
       "    <tr>\n",
       "      <th>233921809956670</th>\n",
       "      <td>PolloTropical</td>\n",
       "      <td>0.849197</td>\n",
       "    </tr>\n",
       "    <tr>\n",
       "      <th>50245567013</th>\n",
       "      <td>McDonaldsUS</td>\n",
       "      <td>0.833581</td>\n",
       "    </tr>\n",
       "    <tr>\n",
       "      <th>34703237638</th>\n",
       "      <td>papajohnsus</td>\n",
       "      <td>0.826484</td>\n",
       "    </tr>\n",
       "    <tr>\n",
       "      <th>18595834696</th>\n",
       "      <td>tacobell</td>\n",
       "      <td>0.764461</td>\n",
       "    </tr>\n",
       "    <tr>\n",
       "      <th>33436041410</th>\n",
       "      <td>deltaco</td>\n",
       "      <td>0.344513</td>\n",
       "    </tr>\n",
       "    <tr>\n",
       "      <th>7854678793</th>\n",
       "      <td>RedRobin</td>\n",
       "      <td>0.329417</td>\n",
       "    </tr>\n",
       "    <tr>\n",
       "      <th>69846573925</th>\n",
       "      <td>Lubys</td>\n",
       "      <td>0.309614</td>\n",
       "    </tr>\n",
       "    <tr>\n",
       "      <th>55330643140</th>\n",
       "      <td>dennys</td>\n",
       "      <td>-0.276980</td>\n",
       "    </tr>\n",
       "    <tr>\n",
       "      <th>145230931776</th>\n",
       "      <td>hooters</td>\n",
       "      <td>-0.521928</td>\n",
       "    </tr>\n",
       "    <tr>\n",
       "      <th>8966519227</th>\n",
       "      <td>texasroadhouse</td>\n",
       "      <td>-0.525564</td>\n",
       "    </tr>\n",
       "    <tr>\n",
       "      <th>102884280145</th>\n",
       "      <td>thecapitalgrille</td>\n",
       "      <td>-0.692353</td>\n",
       "    </tr>\n",
       "    <tr>\n",
       "      <th>6919504147</th>\n",
       "      <td>potbellysandwichshop</td>\n",
       "      <td>-0.860575</td>\n",
       "    </tr>\n",
       "    <tr>\n",
       "      <th>56090499562</th>\n",
       "      <td>fuddruckers</td>\n",
       "      <td>-0.873645</td>\n",
       "    </tr>\n",
       "    <tr>\n",
       "      <th>45795797357</th>\n",
       "      <td>jambajuice</td>\n",
       "      <td>-0.874955</td>\n",
       "    </tr>\n",
       "    <tr>\n",
       "      <th>124149619252</th>\n",
       "      <td>chipotle</td>\n",
       "      <td>-0.918027</td>\n",
       "    </tr>\n",
       "    <tr>\n",
       "      <th>92873089221</th>\n",
       "      <td>YardHouse</td>\n",
       "      <td>-0.926269</td>\n",
       "    </tr>\n",
       "    <tr>\n",
       "      <th>84579814673</th>\n",
       "      <td>Wingstop</td>\n",
       "      <td>-0.945261</td>\n",
       "    </tr>\n",
       "    <tr>\n",
       "      <th>7144906559</th>\n",
       "      <td>KFC</td>\n",
       "      <td>-0.980643</td>\n",
       "    </tr>\n",
       "    <tr>\n",
       "      <th>120283141419641</th>\n",
       "      <td>EddieVsPrimeSeafood</td>\n",
       "      <td>-0.995349</td>\n",
       "    </tr>\n",
       "    <tr>\n",
       "      <th>10150097174480584</th>\n",
       "      <td>McDonalds</td>\n",
       "      <td>NaN</td>\n",
       "    </tr>\n",
       "    <tr>\n",
       "      <th>134615383218473</th>\n",
       "      <td>burgerking</td>\n",
       "      <td>NaN</td>\n",
       "    </tr>\n",
       "    <tr>\n",
       "      <th>235359349841792</th>\n",
       "      <td>TimHortonsUS</td>\n",
       "      <td>NaN</td>\n",
       "    </tr>\n",
       "    <tr>\n",
       "      <th>138010046339878</th>\n",
       "      <td>GrandLuxCafe</td>\n",
       "      <td>NaN</td>\n",
       "    </tr>\n",
       "    <tr>\n",
       "      <th>58615925843</th>\n",
       "      <td>Carrabbas</td>\n",
       "      <td>NaN</td>\n",
       "    </tr>\n",
       "    <tr>\n",
       "      <th>18618646804</th>\n",
       "      <td>OliveGarden</td>\n",
       "      <td>NaN</td>\n",
       "    </tr>\n",
       "    <tr>\n",
       "      <th>94797847988</th>\n",
       "      <td>longhornsteakhouse</td>\n",
       "      <td>NaN</td>\n",
       "    </tr>\n",
       "    <tr>\n",
       "      <th>47575451523</th>\n",
       "      <td>bonefishgrill</td>\n",
       "      <td>NaN</td>\n",
       "    </tr>\n",
       "    <tr>\n",
       "      <th>6657899956</th>\n",
       "      <td>Dominos</td>\n",
       "      <td>NaN</td>\n",
       "    </tr>\n",
       "    <tr>\n",
       "      <th>106027143213</th>\n",
       "      <td>Chilis</td>\n",
       "      <td>NaN</td>\n",
       "    </tr>\n",
       "    <tr>\n",
       "      <th>106628409154</th>\n",
       "      <td>thecheesecakefactory</td>\n",
       "      <td>NaN</td>\n",
       "    </tr>\n",
       "    <tr>\n",
       "      <th>22092443056</th>\n",
       "      <td>Starbucks</td>\n",
       "      <td>NaN</td>\n",
       "    </tr>\n",
       "    <tr>\n",
       "      <th>80922110589</th>\n",
       "      <td>Maggianos</td>\n",
       "      <td>NaN</td>\n",
       "    </tr>\n",
       "    <tr>\n",
       "      <th>10036618151</th>\n",
       "      <td>IHOP</td>\n",
       "      <td>NaN</td>\n",
       "    </tr>\n",
       "    <tr>\n",
       "      <th>84772351477</th>\n",
       "      <td>ElPolloLoco</td>\n",
       "      <td>NaN</td>\n",
       "    </tr>\n",
       "    <tr>\n",
       "      <th>132304788977</th>\n",
       "      <td>famousdaves</td>\n",
       "      <td>NaN</td>\n",
       "    </tr>\n",
       "    <tr>\n",
       "      <th>80555139083</th>\n",
       "      <td>flemings</td>\n",
       "      <td>NaN</td>\n",
       "    </tr>\n",
       "    <tr>\n",
       "      <th>86744073413</th>\n",
       "      <td>seasons52</td>\n",
       "      <td>NaN</td>\n",
       "    </tr>\n",
       "    <tr>\n",
       "      <th>6415052155</th>\n",
       "      <td>TacoCabana</td>\n",
       "      <td>NaN</td>\n",
       "    </tr>\n",
       "    <tr>\n",
       "      <th>84917689333</th>\n",
       "      <td>applebees</td>\n",
       "      <td>NaN</td>\n",
       "    </tr>\n",
       "    <tr>\n",
       "      <th>22343544970</th>\n",
       "      <td>BahamaBreeze</td>\n",
       "      <td>NaN</td>\n",
       "    </tr>\n",
       "    <tr>\n",
       "      <th>48543634386</th>\n",
       "      <td>outback</td>\n",
       "      <td>NaN</td>\n",
       "    </tr>\n",
       "  </tbody>\n",
       "</table>\n",
       "</div>"
      ],
      "text/plain": [
       "                                FB name  Correlation\n",
       "facebook_id                                         \n",
       "256154354583303                     jet     0.993227\n",
       "124653650181                 shakeshack     0.979467\n",
       "113385204488                     wendys     0.969500\n",
       "71011774235                 ZoesKitchen     0.959700\n",
       "46895347303                jackinthebox     0.950369\n",
       "284314854066           papamurphyspizza     0.940280\n",
       "175123745870734           crackerbarrel     0.931204\n",
       "321935321302049                PizzaHut     0.891103\n",
       "233921809956670           PolloTropical     0.849197\n",
       "50245567013                 McDonaldsUS     0.833581\n",
       "34703237638                 papajohnsus     0.826484\n",
       "18595834696                    tacobell     0.764461\n",
       "33436041410                     deltaco     0.344513\n",
       "7854678793                     RedRobin     0.329417\n",
       "69846573925                       Lubys     0.309614\n",
       "55330643140                      dennys    -0.276980\n",
       "145230931776                    hooters    -0.521928\n",
       "8966519227               texasroadhouse    -0.525564\n",
       "102884280145           thecapitalgrille    -0.692353\n",
       "6919504147         potbellysandwichshop    -0.860575\n",
       "56090499562                 fuddruckers    -0.873645\n",
       "45795797357                  jambajuice    -0.874955\n",
       "124149619252                   chipotle    -0.918027\n",
       "92873089221                   YardHouse    -0.926269\n",
       "84579814673                    Wingstop    -0.945261\n",
       "7144906559                          KFC    -0.980643\n",
       "120283141419641     EddieVsPrimeSeafood    -0.995349\n",
       "10150097174480584             McDonalds          NaN\n",
       "134615383218473              burgerking          NaN\n",
       "235359349841792            TimHortonsUS          NaN\n",
       "138010046339878            GrandLuxCafe          NaN\n",
       "58615925843                   Carrabbas          NaN\n",
       "18618646804                 OliveGarden          NaN\n",
       "94797847988          longhornsteakhouse          NaN\n",
       "47575451523               bonefishgrill          NaN\n",
       "6657899956                      Dominos          NaN\n",
       "106027143213                     Chilis          NaN\n",
       "106628409154       thecheesecakefactory          NaN\n",
       "22092443056                   Starbucks          NaN\n",
       "80922110589                   Maggianos          NaN\n",
       "10036618151                        IHOP          NaN\n",
       "84772351477                 ElPolloLoco          NaN\n",
       "132304788977                famousdaves          NaN\n",
       "80555139083                    flemings          NaN\n",
       "86744073413                   seasons52          NaN\n",
       "6415052155                   TacoCabana          NaN\n",
       "84917689333                   applebees          NaN\n",
       "22343544970                BahamaBreeze          NaN\n",
       "48543634386                     outback          NaN"
      ]
     },
     "execution_count": 226,
     "metadata": {},
     "output_type": "execute_result"
    }
   ],
   "source": [
    "fnb_checkins_coef=pd.DataFrame(d2)\n",
    "fnb_checkins_coef=fnb_checkins_coef.set_index('facebook_id').sort_values(by='Correlation',ascending=False)\n",
    "fnb_checkins_coef"
   ]
  },
  {
   "cell_type": "code",
   "execution_count": 201,
   "metadata": {},
   "outputs": [],
   "source": [
    "Total_nan=fnb_checkins_coef['Correlation'].isna().sum()"
   ]
  },
  {
   "cell_type": "code",
   "execution_count": 203,
   "metadata": {},
   "outputs": [
    {
     "data": {
      "text/plain": [
       "0.5510204081632653"
      ]
     },
     "execution_count": 203,
     "metadata": {},
     "output_type": "execute_result"
    }
   ],
   "source": [
    "1-Total_nan/49"
   ]
  },
  {
   "cell_type": "markdown",
   "metadata": {},
   "source": [
    "Check-ins data only available to 27 (55%) food and beverage Facebook pages"
   ]
  },
  {
   "cell_type": "markdown",
   "metadata": {},
   "source": [
    "Top 5 Facebook pages with high correlation between likes and check-ins count "
   ]
  },
  {
   "cell_type": "code",
   "execution_count": 223,
   "metadata": {},
   "outputs": [
    {
     "data": {
      "text/html": [
       "<div>\n",
       "<style scoped>\n",
       "    .dataframe tbody tr th:only-of-type {\n",
       "        vertical-align: middle;\n",
       "    }\n",
       "\n",
       "    .dataframe tbody tr th {\n",
       "        vertical-align: top;\n",
       "    }\n",
       "\n",
       "    .dataframe thead th {\n",
       "        text-align: right;\n",
       "    }\n",
       "</style>\n",
       "<table border=\"1\" class=\"dataframe\">\n",
       "  <thead>\n",
       "    <tr style=\"text-align: right;\">\n",
       "      <th></th>\n",
       "      <th>FB name</th>\n",
       "      <th>Correlation</th>\n",
       "    </tr>\n",
       "    <tr>\n",
       "      <th>facebook_id</th>\n",
       "      <th></th>\n",
       "      <th></th>\n",
       "    </tr>\n",
       "  </thead>\n",
       "  <tbody>\n",
       "    <tr>\n",
       "      <th>256154354583303</th>\n",
       "      <td>jet</td>\n",
       "      <td>0.993227</td>\n",
       "    </tr>\n",
       "    <tr>\n",
       "      <th>124653650181</th>\n",
       "      <td>shakeshack</td>\n",
       "      <td>0.979467</td>\n",
       "    </tr>\n",
       "    <tr>\n",
       "      <th>113385204488</th>\n",
       "      <td>wendys</td>\n",
       "      <td>0.969500</td>\n",
       "    </tr>\n",
       "    <tr>\n",
       "      <th>71011774235</th>\n",
       "      <td>ZoesKitchen</td>\n",
       "      <td>0.959700</td>\n",
       "    </tr>\n",
       "    <tr>\n",
       "      <th>46895347303</th>\n",
       "      <td>jackinthebox</td>\n",
       "      <td>0.950369</td>\n",
       "    </tr>\n",
       "  </tbody>\n",
       "</table>\n",
       "</div>"
      ],
      "text/plain": [
       "                      FB name  Correlation\n",
       "facebook_id                               \n",
       "256154354583303           jet     0.993227\n",
       "124653650181       shakeshack     0.979467\n",
       "113385204488           wendys     0.969500\n",
       "71011774235       ZoesKitchen     0.959700\n",
       "46895347303      jackinthebox     0.950369"
      ]
     },
     "execution_count": 223,
     "metadata": {},
     "output_type": "execute_result"
    }
   ],
   "source": [
    "fnb_checkins_coef.dropna()[0:5]"
   ]
  },
  {
   "cell_type": "markdown",
   "metadata": {},
   "source": [
    "Bottom 5 for Facebook pages with high correlation between likes and check-ins count "
   ]
  },
  {
   "cell_type": "code",
   "execution_count": 224,
   "metadata": {},
   "outputs": [
    {
     "data": {
      "text/html": [
       "<div>\n",
       "<style scoped>\n",
       "    .dataframe tbody tr th:only-of-type {\n",
       "        vertical-align: middle;\n",
       "    }\n",
       "\n",
       "    .dataframe tbody tr th {\n",
       "        vertical-align: top;\n",
       "    }\n",
       "\n",
       "    .dataframe thead th {\n",
       "        text-align: right;\n",
       "    }\n",
       "</style>\n",
       "<table border=\"1\" class=\"dataframe\">\n",
       "  <thead>\n",
       "    <tr style=\"text-align: right;\">\n",
       "      <th></th>\n",
       "      <th>FB name</th>\n",
       "      <th>Correlation</th>\n",
       "    </tr>\n",
       "    <tr>\n",
       "      <th>facebook_id</th>\n",
       "      <th></th>\n",
       "      <th></th>\n",
       "    </tr>\n",
       "  </thead>\n",
       "  <tbody>\n",
       "    <tr>\n",
       "      <th>120283141419641</th>\n",
       "      <td>EddieVsPrimeSeafood</td>\n",
       "      <td>-0.995349</td>\n",
       "    </tr>\n",
       "    <tr>\n",
       "      <th>7144906559</th>\n",
       "      <td>KFC</td>\n",
       "      <td>-0.980643</td>\n",
       "    </tr>\n",
       "    <tr>\n",
       "      <th>84579814673</th>\n",
       "      <td>Wingstop</td>\n",
       "      <td>-0.945261</td>\n",
       "    </tr>\n",
       "    <tr>\n",
       "      <th>92873089221</th>\n",
       "      <td>YardHouse</td>\n",
       "      <td>-0.926269</td>\n",
       "    </tr>\n",
       "    <tr>\n",
       "      <th>124149619252</th>\n",
       "      <td>chipotle</td>\n",
       "      <td>-0.918027</td>\n",
       "    </tr>\n",
       "  </tbody>\n",
       "</table>\n",
       "</div>"
      ],
      "text/plain": [
       "                             FB name  Correlation\n",
       "facebook_id                                      \n",
       "120283141419641  EddieVsPrimeSeafood    -0.995349\n",
       "7144906559                       KFC    -0.980643\n",
       "84579814673                 Wingstop    -0.945261\n",
       "92873089221                YardHouse    -0.926269\n",
       "124149619252                chipotle    -0.918027"
      ]
     },
     "execution_count": 224,
     "metadata": {},
     "output_type": "execute_result"
    }
   ],
   "source": [
    "fnb_checkins_coef.dropna()[:-6:-1]"
   ]
  },
  {
   "cell_type": "code",
   "execution_count": 211,
   "metadata": {},
   "outputs": [
    {
     "data": {
      "text/plain": [
       "median    0.874955\n",
       "mean      0.787543\n",
       "std       0.235058\n",
       "Name: Correlation, dtype: float64"
      ]
     },
     "execution_count": 211,
     "metadata": {},
     "output_type": "execute_result"
    }
   ],
   "source": [
    "fnb_checkins_coef.dropna()['Correlation'].abs().agg(['median','mean','std'])"
   ]
  },
  {
   "cell_type": "code",
   "execution_count": 241,
   "metadata": {},
   "outputs": [],
   "source": [
    "Top5_coerf_checkins=[]\n",
    "for i in top10_norm[0:5].index:\n",
    "    Top5_coerf_checkins.append(fnb_checkins_coef.loc[i]['Correlation'])"
   ]
  },
  {
   "cell_type": "code",
   "execution_count": 244,
   "metadata": {},
   "outputs": [
    {
     "data": {
      "text/html": [
       "<div>\n",
       "<style scoped>\n",
       "    .dataframe tbody tr th:only-of-type {\n",
       "        vertical-align: middle;\n",
       "    }\n",
       "\n",
       "    .dataframe tbody tr th {\n",
       "        vertical-align: top;\n",
       "    }\n",
       "\n",
       "    .dataframe thead th {\n",
       "        text-align: right;\n",
       "    }\n",
       "</style>\n",
       "<table border=\"1\" class=\"dataframe\">\n",
       "  <thead>\n",
       "    <tr style=\"text-align: right;\">\n",
       "      <th></th>\n",
       "      <th>FB name</th>\n",
       "      <th>Correlation</th>\n",
       "    </tr>\n",
       "    <tr>\n",
       "      <th>facebook_id</th>\n",
       "      <th></th>\n",
       "      <th></th>\n",
       "    </tr>\n",
       "  </thead>\n",
       "  <tbody>\n",
       "    <tr>\n",
       "      <th>10150097174480584</th>\n",
       "      <td>McD</td>\n",
       "      <td>NaN</td>\n",
       "    </tr>\n",
       "    <tr>\n",
       "      <th>50245567013</th>\n",
       "      <td>McDUS</td>\n",
       "      <td>0.833581</td>\n",
       "    </tr>\n",
       "    <tr>\n",
       "      <th>7144906559</th>\n",
       "      <td>KFC</td>\n",
       "      <td>-0.980643</td>\n",
       "    </tr>\n",
       "    <tr>\n",
       "      <th>6657899956</th>\n",
       "      <td>Dom</td>\n",
       "      <td>NaN</td>\n",
       "    </tr>\n",
       "    <tr>\n",
       "      <th>321935321302049</th>\n",
       "      <td>PHut</td>\n",
       "      <td>0.891103</td>\n",
       "    </tr>\n",
       "  </tbody>\n",
       "</table>\n",
       "</div>"
      ],
      "text/plain": [
       "                  FB name  Correlation\n",
       "facebook_id                           \n",
       "10150097174480584     McD          NaN\n",
       "50245567013         McDUS     0.833581\n",
       "7144906559            KFC    -0.980643\n",
       "6657899956            Dom          NaN\n",
       "321935321302049      PHut     0.891103"
      ]
     },
     "execution_count": 244,
     "metadata": {},
     "output_type": "execute_result"
    }
   ],
   "source": [
    "Coerf_checkins=top10_norm[0:5]\n",
    "Coerf_checkins=Coerf_checkins.drop(['Normalised likes'],axis=1)\n",
    "se = pd.Series(Top5_coerf_checkins)\n",
    "Coerf_checkins['Correlation']=se.values\n",
    "Coerf_checkins"
   ]
  },
  {
   "cell_type": "code",
   "execution_count": 706,
   "metadata": {},
   "outputs": [
    {
     "data": {
      "text/plain": [
       "32"
      ]
     },
     "execution_count": 706,
     "metadata": {},
     "output_type": "execute_result"
    }
   ],
   "source": [
    "len(fnb_likes_gain2)"
   ]
  },
  {
   "cell_type": "code",
   "execution_count": 279,
   "metadata": {},
   "outputs": [
    {
     "data": {
      "image/png": "[encoded data removed]",
      "text/plain": [
       "<Figure size 432x288 with 2 Axes>"
      ]
     },
     "metadata": {},
     "output_type": "display_data"
    }
   ],
   "source": [
    "import matplotlib.lines as mlines\n",
    "years = mdates.YearLocator()   # every year\n",
    "months = mdates.MonthLocator()  # every month\n",
    "days = mdates.DayLocator()  # every month\n",
    "years_fmt = mdates.DateFormatter('%Y')\n",
    "\n",
    "\n",
    "\n",
    "fig, ax = plt.subplots()\n",
    "\n",
    "ax.plot(all_time[2].values,all_likes[2])\n",
    "ax2=ax.twinx()\n",
    "ax2.plot(all_time[2].values,all_checkins[2],\"b-\")\n",
    "\n",
    "\n",
    "\n",
    "# format the ticks\n",
    "ax.xaxis.set_major_locator(years)\n",
    "ax.xaxis.set_major_formatter(years_fmt)\n",
    "ax.xaxis.set_minor_locator(months)\n",
    "lines=[ax,ax2]\n",
    "ax.ticklabel_format(axis=\"y\", style=\"sci\", scilimits=(0,0))\n",
    "ax2.ticklabel_format(axis=\"y\", style=\"sci\", scilimits=(0,0))\n",
    "\n",
    "\n",
    "\n",
    "red_line = mlines.Line2D([], [],color='red', label='Likes')\n",
    "blue_line = mlines.Line2D([], [],color='blue', label='Check-ins')\n",
    "plt.legend(handles=[red_line,blue_line],loc='center right',fontsize=10)\n",
    "\n",
    "\n",
    "\n",
    "\n",
    "# round to nearest years.\n",
    "Min_final=min(all_time[2].values)\n",
    "Max_final=max(all_time[2].values)\n",
    "datemin = np.datetime64(Min_final, 'Y')\n",
    "datemax = np.datetime64(Max_final, 'Y') + np.timedelta64(1, 'Y')\n",
    "ax.set_xlim(datemin, datemax)\n",
    "\n",
    "# format the coords message box\n",
    "ax.set_xlabel(\"Year\")\n",
    "ax2.set_ylabel(\"Facebook check-ins\",color=\"blue\",fontsize=12)\n",
    "ax.set_ylabel(\"Facebook likes\",color=\"red\",fontsize=12)\n",
    "\n",
    "plt.title(\"Fig. 7: KFC likes & checkins (Coerf=-0.98)\",fontsize=12) \n",
    "ax.grid(True)\n",
    "ax2.grid(False)\n",
    "\n",
    "\n",
    "\n",
    "\n",
    "# rotates and right aligns the x labels, and moves the bottom of the\n",
    "# axes up to make room for them\n",
    "fig.autofmt_xdate()\n",
    "\n",
    "plt.show()"
   ]
  },
  {
   "cell_type": "code",
   "execution_count": 269,
   "metadata": {},
   "outputs": [
    {
     "data": {
      "image/png": "[encoded data removed]",
      "text/plain": [
       "<Figure size 432x288 with 2 Axes>"
      ]
     },
     "metadata": {},
     "output_type": "display_data"
    }
   ],
   "source": [
    "import matplotlib.lines as mlines\n",
    "years = mdates.YearLocator()   # every year\n",
    "months = mdates.MonthLocator()  # every month\n",
    "days = mdates.DayLocator()  # every month\n",
    "years_fmt = mdates.DateFormatter('%Y')\n",
    "\n",
    "\n",
    "\n",
    "fig, ax = plt.subplots()\n",
    "\n",
    "ax.plot(all_time[1].values,all_likes[1])\n",
    "ax2=ax.twinx()\n",
    "ax2.plot(all_time[1].values,all_checkins[1],\"b-\")\n",
    "\n",
    "\n",
    "\n",
    "# format the ticks\n",
    "ax.xaxis.set_major_locator(years)\n",
    "ax.xaxis.set_major_formatter(years_fmt)\n",
    "ax.xaxis.set_minor_locator(months)\n",
    "lines=[ax,ax2]\n",
    "ax.ticklabel_format(axis=\"y\", style=\"sci\", scilimits=(0,0))\n",
    "ax2.ticklabel_format(axis=\"y\", style=\"sci\", scilimits=(0,0))\n",
    "\n",
    "\n",
    "\n",
    "red_line = mlines.Line2D([], [],color='red', label='Likes')\n",
    "blue_line = mlines.Line2D([], [],color='blue', label='Check-ins')\n",
    "plt.legend(handles=[red_line,blue_line],loc='center right',fontsize=10)\n",
    "\n",
    "\n",
    "\n",
    "\n",
    "# round to nearest years.\n",
    "Min_final=min(all_time[1].values)\n",
    "Max_final=max(all_time[1].values)\n",
    "datemin = np.datetime64(Min_final, 'Y')\n",
    "datemax = np.datetime64(Max_final, 'Y') + np.timedelta64(1, 'Y')\n",
    "ax.set_xlim(datemin, datemax)\n",
    "\n",
    "# format the coords message box\n",
    "ax.set_xlabel(\"Year\")\n",
    "ax2.set_ylabel(\"Facebook check-ins\",color=\"blue\",fontsize=12)\n",
    "ax.set_ylabel(\"Facebook likes\",color=\"red\",fontsize=12)\n",
    "\n",
    "plt.title(\"Fig. 8: McDUS likes & checkins (Coerf=0.83)\",fontsize=12) \n",
    "ax.grid(True)\n",
    "ax2.grid(False)\n",
    "\n",
    "\n",
    "\n",
    "\n",
    "# rotates and right aligns the x labels, and moves the bottom of the\n",
    "# axes up to make room for them\n",
    "fig.autofmt_xdate()\n",
    "\n",
    "plt.show()"
   ]
  },
  {
   "cell_type": "code",
   "execution_count": null,
   "metadata": {},
   "outputs": [],
   "source": []
  }
 ],
 "metadata": {
  "kernelspec": {
   "display_name": "Python 3",
   "language": "python",
   "name": "python3"
  },
  "language_info": {
   "codemirror_mode": {
    "name": "ipython",
    "version": 3
   },
   "file_extension": ".py",
   "mimetype": "text/x-python",
   "name": "python",
   "nbconvert_exporter": "python",
   "pygments_lexer": "ipython3",
   "version": "3.8.0"
  }
 },
 "nbformat": 4,
 "nbformat_minor": 4
}
